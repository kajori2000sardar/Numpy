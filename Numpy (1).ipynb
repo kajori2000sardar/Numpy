{
 "cells": [
  {
   "cell_type": "code",
   "execution_count": 1,
   "metadata": {},
   "outputs": [],
   "source": [
    "import numpy as np"
   ]
  },
  {
   "cell_type": "code",
   "execution_count": 2,
   "metadata": {},
   "outputs": [
    {
     "data": {
      "text/plain": [
       "'1.16.2'"
      ]
     },
     "execution_count": 2,
     "metadata": {},
     "output_type": "execute_result"
    }
   ],
   "source": [
    "np.__version__"
   ]
  },
  {
   "cell_type": "code",
   "execution_count": 3,
   "metadata": {},
   "outputs": [
    {
     "name": "stdout",
     "output_type": "stream",
     "text": [
      "mkl_info:\n",
      "    libraries = ['mkl_rt']\n",
      "    library_dirs = ['C:/Users/user/Anaconda3\\\\Library\\\\lib']\n",
      "    define_macros = [('SCIPY_MKL_H', None), ('HAVE_CBLAS', None)]\n",
      "    include_dirs = ['C:\\\\Program Files (x86)\\\\IntelSWTools\\\\compilers_and_libraries_2019.0.117\\\\windows\\\\mkl', 'C:\\\\Program Files (x86)\\\\IntelSWTools\\\\compilers_and_libraries_2019.0.117\\\\windows\\\\mkl\\\\include', 'C:\\\\Program Files (x86)\\\\IntelSWTools\\\\compilers_and_libraries_2019.0.117\\\\windows\\\\mkl\\\\lib', 'C:/Users/user/Anaconda3\\\\Library\\\\include']\n",
      "blas_mkl_info:\n",
      "    libraries = ['mkl_rt']\n",
      "    library_dirs = ['C:/Users/user/Anaconda3\\\\Library\\\\lib']\n",
      "    define_macros = [('SCIPY_MKL_H', None), ('HAVE_CBLAS', None)]\n",
      "    include_dirs = ['C:\\\\Program Files (x86)\\\\IntelSWTools\\\\compilers_and_libraries_2019.0.117\\\\windows\\\\mkl', 'C:\\\\Program Files (x86)\\\\IntelSWTools\\\\compilers_and_libraries_2019.0.117\\\\windows\\\\mkl\\\\include', 'C:\\\\Program Files (x86)\\\\IntelSWTools\\\\compilers_and_libraries_2019.0.117\\\\windows\\\\mkl\\\\lib', 'C:/Users/user/Anaconda3\\\\Library\\\\include']\n",
      "blas_opt_info:\n",
      "    libraries = ['mkl_rt']\n",
      "    library_dirs = ['C:/Users/user/Anaconda3\\\\Library\\\\lib']\n",
      "    define_macros = [('SCIPY_MKL_H', None), ('HAVE_CBLAS', None)]\n",
      "    include_dirs = ['C:\\\\Program Files (x86)\\\\IntelSWTools\\\\compilers_and_libraries_2019.0.117\\\\windows\\\\mkl', 'C:\\\\Program Files (x86)\\\\IntelSWTools\\\\compilers_and_libraries_2019.0.117\\\\windows\\\\mkl\\\\include', 'C:\\\\Program Files (x86)\\\\IntelSWTools\\\\compilers_and_libraries_2019.0.117\\\\windows\\\\mkl\\\\lib', 'C:/Users/user/Anaconda3\\\\Library\\\\include']\n",
      "lapack_mkl_info:\n",
      "    libraries = ['mkl_rt']\n",
      "    library_dirs = ['C:/Users/user/Anaconda3\\\\Library\\\\lib']\n",
      "    define_macros = [('SCIPY_MKL_H', None), ('HAVE_CBLAS', None)]\n",
      "    include_dirs = ['C:\\\\Program Files (x86)\\\\IntelSWTools\\\\compilers_and_libraries_2019.0.117\\\\windows\\\\mkl', 'C:\\\\Program Files (x86)\\\\IntelSWTools\\\\compilers_and_libraries_2019.0.117\\\\windows\\\\mkl\\\\include', 'C:\\\\Program Files (x86)\\\\IntelSWTools\\\\compilers_and_libraries_2019.0.117\\\\windows\\\\mkl\\\\lib', 'C:/Users/user/Anaconda3\\\\Library\\\\include']\n",
      "lapack_opt_info:\n",
      "    libraries = ['mkl_rt']\n",
      "    library_dirs = ['C:/Users/user/Anaconda3\\\\Library\\\\lib']\n",
      "    define_macros = [('SCIPY_MKL_H', None), ('HAVE_CBLAS', None)]\n",
      "    include_dirs = ['C:\\\\Program Files (x86)\\\\IntelSWTools\\\\compilers_and_libraries_2019.0.117\\\\windows\\\\mkl', 'C:\\\\Program Files (x86)\\\\IntelSWTools\\\\compilers_and_libraries_2019.0.117\\\\windows\\\\mkl\\\\include', 'C:\\\\Program Files (x86)\\\\IntelSWTools\\\\compilers_and_libraries_2019.0.117\\\\windows\\\\mkl\\\\lib', 'C:/Users/user/Anaconda3\\\\Library\\\\include']\n"
     ]
    }
   ],
   "source": [
    "np.show_config()"
   ]
  },
  {
   "cell_type": "code",
   "execution_count": 4,
   "metadata": {},
   "outputs": [],
   "source": [
    "null_vector=np.zeros(10)"
   ]
  },
  {
   "cell_type": "code",
   "execution_count": 5,
   "metadata": {},
   "outputs": [],
   "source": [
    "list1=[5,7,3,9,1,4]"
   ]
  },
  {
   "cell_type": "code",
   "execution_count": 6,
   "metadata": {},
   "outputs": [],
   "source": [
    "list_array=np.array(list1)"
   ]
  },
  {
   "cell_type": "code",
   "execution_count": 7,
   "metadata": {},
   "outputs": [
    {
     "data": {
      "text/plain": [
       "array([5, 7, 3, 9, 1, 4])"
      ]
     },
     "execution_count": 7,
     "metadata": {},
     "output_type": "execute_result"
    }
   ],
   "source": [
    "list_array"
   ]
  },
  {
   "cell_type": "code",
   "execution_count": 8,
   "metadata": {},
   "outputs": [
    {
     "data": {
      "text/plain": [
       "6"
      ]
     },
     "execution_count": 8,
     "metadata": {},
     "output_type": "execute_result"
    }
   ],
   "source": [
    "len(list1)"
   ]
  },
  {
   "cell_type": "code",
   "execution_count": 9,
   "metadata": {},
   "outputs": [
    {
     "name": "stdout",
     "output_type": "stream",
     "text": [
      "add(x1, x2, /, out=None, *, where=True, casting='same_kind', order='K', dtype=None, subok=True[, signature, extobj])\n",
      "\n",
      "Add arguments element-wise.\n",
      "\n",
      "Parameters\n",
      "----------\n",
      "x1, x2 : array_like\n",
      "    The arrays to be added.  If ``x1.shape != x2.shape``, they must be\n",
      "    broadcastable to a common shape (which may be the shape of one or\n",
      "    the other).\n",
      "out : ndarray, None, or tuple of ndarray and None, optional\n",
      "    A location into which the result is stored. If provided, it must have\n",
      "    a shape that the inputs broadcast to. If not provided or `None`,\n",
      "    a freshly-allocated array is returned. A tuple (possible only as a\n",
      "    keyword argument) must have length equal to the number of outputs.\n",
      "where : array_like, optional\n",
      "    Values of True indicate to calculate the ufunc at that position, values\n",
      "    of False indicate to leave the value in the output alone.\n",
      "**kwargs\n",
      "    For other keyword-only arguments, see the\n",
      "    :ref:`ufunc docs <ufuncs.kwargs>`.\n",
      "\n",
      "Returns\n",
      "-------\n",
      "add : ndarray or scalar\n",
      "    The sum of `x1` and `x2`, element-wise.\n",
      "    This is a scalar if both `x1` and `x2` are scalars.\n",
      "\n",
      "Notes\n",
      "-----\n",
      "Equivalent to `x1` + `x2` in terms of array broadcasting.\n",
      "\n",
      "Examples\n",
      "--------\n",
      ">>> np.add(1.0, 4.0)\n",
      "5.0\n",
      ">>> x1 = np.arange(9.0).reshape((3, 3))\n",
      ">>> x2 = np.arange(3.0)\n",
      ">>> np.add(x1, x2)\n",
      "array([[  0.,   2.,   4.],\n",
      "       [  3.,   5.,   7.],\n",
      "       [  6.,   8.,  10.]])\n"
     ]
    }
   ],
   "source": [
    "# How to get the documentation of the numpy add function from the command line\n",
    "import numpy\n",
    "numpy.info(numpy.add)"
   ]
  },
  {
   "cell_type": "code",
   "execution_count": 10,
   "metadata": {},
   "outputs": [
    {
     "name": "stdout",
     "output_type": "stream",
     "text": [
      "[0. 0. 0. 0. 0. 1. 0. 0. 0. 0.]\n"
     ]
    }
   ],
   "source": [
    "# Create a null vector of size 10 but the fifth value which is 1\n",
    "import numpy as np\n",
    "N= np.zeros(10)\n",
    "N[5]=1\n",
    "print(N)"
   ]
  },
  {
   "cell_type": "code",
   "execution_count": 11,
   "metadata": {},
   "outputs": [
    {
     "name": "stdout",
     "output_type": "stream",
     "text": [
      "[10 11 12 13 14 15 16 17 18 19 20 21 22 23 24 25 26 27 28 29 30 31 32 33\n",
      " 34 35 36 37 38 39 40 41 42 43 44 45 46 47 48 49]\n"
     ]
    }
   ],
   "source": [
    "# Create a vector with values ranging from 10 to 49\n",
    "import numpy as np\n",
    "N=np.arange(10,50)\n",
    "print(N)"
   ]
  },
  {
   "cell_type": "code",
   "execution_count": 12,
   "metadata": {},
   "outputs": [
    {
     "name": "stdout",
     "output_type": "stream",
     "text": [
      "[49 48 47 46 45 44 43 42 41 40 39 38 37 36 35 34 33 32 31 30 29 28 27 26\n",
      " 25 24 23 22 21 20 19 18 17 16 15 14 13 12 11 10]\n"
     ]
    }
   ],
   "source": [
    "#Reverse a vector (first element becomes last)\n",
    "import numpy as np\n",
    "N=np.arange(10,50)\n",
    "N=N[::-1]\n",
    "print(N)"
   ]
  },
  {
   "cell_type": "code",
   "execution_count": 13,
   "metadata": {},
   "outputs": [
    {
     "name": "stdout",
     "output_type": "stream",
     "text": [
      "[[0 1 2]\n",
      " [3 4 5]\n",
      " [6 7 8]]\n"
     ]
    }
   ],
   "source": [
    "#Create a 3x3 matrix with values ranging from 0 to 8\n",
    "import numpy as np\n",
    "N=np.arange(0,9).reshape(3,3)\n",
    "print(N)"
   ]
  },
  {
   "cell_type": "code",
   "execution_count": 14,
   "metadata": {},
   "outputs": [
    {
     "name": "stdout",
     "output_type": "stream",
     "text": [
      "(array([0, 1, 4], dtype=int64),)\n"
     ]
    }
   ],
   "source": [
    "#Find indices of non-zero elements from [1,2,0,0,4,0]\n",
    "import numpy as np\n",
    "NZ=np.nonzero([1,2,0,0,4,0])\n",
    "print(NZ)\n"
   ]
  },
  {
   "cell_type": "code",
   "execution_count": 15,
   "metadata": {},
   "outputs": [
    {
     "name": "stdout",
     "output_type": "stream",
     "text": [
      "[[1. 0. 0.]\n",
      " [0. 1. 0.]\n",
      " [0. 0. 1.]]\n"
     ]
    }
   ],
   "source": [
    "#Create a 3x3 identity matrix\n",
    "import numpy as np\n",
    "NI=np.eye(3)\n",
    "print(NI)"
   ]
  },
  {
   "cell_type": "code",
   "execution_count": 16,
   "metadata": {},
   "outputs": [
    {
     "name": "stdout",
     "output_type": "stream",
     "text": [
      "[2.97609506 2.61913188 1.68541224]\n"
     ]
    }
   ],
   "source": [
    "#Create a 3x3x3 array with random values\n",
    "import numpy as np\n",
    "NU=np.random.uniform((3,3,3))\n",
    "print(NU)"
   ]
  },
  {
   "cell_type": "code",
   "execution_count": 17,
   "metadata": {},
   "outputs": [
    {
     "name": "stdout",
     "output_type": "stream",
     "text": [
      "Nmin- 0   Nmax- 8\n"
     ]
    }
   ],
   "source": [
    "#Create a 10x10 array with random values and find the minimum and maximum values\n",
    "import numpy as np\n",
    "NR=np.random.random((10,10))\n",
    "Nmin,Nmax=N.min(),N.max()\n",
    "print('Nmin-',Nmin,' ','Nmax-',Nmax)"
   ]
  },
  {
   "cell_type": "code",
   "execution_count": 18,
   "metadata": {},
   "outputs": [
    {
     "name": "stdout",
     "output_type": "stream",
     "text": [
      "0.49682008576189113\n"
     ]
    }
   ],
   "source": [
    "#Create a random vector of size 30 and find the mean value\n",
    "import numpy as np\n",
    "N=np.random.random(10)\n",
    "m=N.mean()\n",
    "print(m)"
   ]
  },
  {
   "cell_type": "code",
   "execution_count": 19,
   "metadata": {},
   "outputs": [
    {
     "name": "stdout",
     "output_type": "stream",
     "text": [
      "[[1. 1. 1. 1. 1. 1. 1. 1. 1. 1.]\n",
      " [1. 0. 0. 0. 0. 0. 0. 0. 0. 1.]\n",
      " [1. 0. 0. 0. 0. 0. 0. 0. 0. 1.]\n",
      " [1. 0. 0. 0. 0. 0. 0. 0. 0. 1.]\n",
      " [1. 0. 0. 0. 0. 0. 0. 0. 0. 1.]\n",
      " [1. 0. 0. 0. 0. 0. 0. 0. 0. 1.]\n",
      " [1. 0. 0. 0. 0. 0. 0. 0. 0. 1.]\n",
      " [1. 0. 0. 0. 0. 0. 0. 0. 0. 1.]\n",
      " [1. 0. 0. 0. 0. 0. 0. 0. 0. 1.]\n",
      " [1. 1. 1. 1. 1. 1. 1. 1. 1. 1.]]\n"
     ]
    }
   ],
   "source": [
    "#Create a 2d array with 1 on the border and 0 inside\n",
    "import numpy as np\n",
    "N=np.ones((10,10))\n",
    "N[1:-1,1:-1]=0\n",
    "print(N)"
   ]
  },
  {
   "cell_type": "code",
   "execution_count": 20,
   "metadata": {},
   "outputs": [
    {
     "name": "stdout",
     "output_type": "stream",
     "text": [
      "[[0. 0. 0. 0. 0. 0. 0.]\n",
      " [0. 1. 1. 1. 1. 1. 0.]\n",
      " [0. 1. 1. 1. 1. 1. 0.]\n",
      " [0. 1. 1. 1. 1. 1. 0.]\n",
      " [0. 1. 1. 1. 1. 1. 0.]\n",
      " [0. 1. 1. 1. 1. 1. 0.]\n",
      " [0. 0. 0. 0. 0. 0. 0.]]\n"
     ]
    }
   ],
   "source": [
    "#How to add a border (filled with 0's) around an existing array?\n",
    "import numpy as np\n",
    "N=np.ones((5,5))\n",
    "N=np.pad(N,pad_width=1,mode='constant',constant_values=0)\n",
    "print(N)"
   ]
  },
  {
   "cell_type": "code",
   "execution_count": 21,
   "metadata": {},
   "outputs": [
    {
     "name": "stdout",
     "output_type": "stream",
     "text": [
      "[[0. 0. 0. 0. 0.]\n",
      " [0. 1. 1. 1. 0.]\n",
      " [0. 1. 1. 1. 0.]\n",
      " [0. 1. 1. 1. 0.]\n",
      " [0. 0. 0. 0. 0.]]\n"
     ]
    }
   ],
   "source": [
    "#How to add a border (filled with 0's) around an existing array?\n",
    "import numpy as np\n",
    "N=np.ones((5,5))\n",
    "N[:,[0,-1]]=0\n",
    "N[[0,-1],:]=0\n",
    "print(N)"
   ]
  },
  {
   "cell_type": "code",
   "execution_count": 22,
   "metadata": {},
   "outputs": [
    {
     "name": "stdout",
     "output_type": "stream",
     "text": [
      "nan\n",
      "False\n",
      "False\n",
      "nan\n",
      "True\n",
      "False\n"
     ]
    }
   ],
   "source": [
    "#What is the result of the following expression?\n",
    "import numpy as np\n",
    "print(0 * np.nan)\n",
    "print(np.nan == np.nan)\n",
    "print(np.inf > np.nan)\n",
    "print(np.nan - np.nan)\n",
    "print(np.nan in set([np.nan]))\n",
    "print(0.3 == 3 * 0.1)"
   ]
  },
  {
   "cell_type": "code",
   "execution_count": 23,
   "metadata": {},
   "outputs": [
    {
     "name": "stdout",
     "output_type": "stream",
     "text": [
      "[[0 0 0 0 0]\n",
      " [1 0 0 0 0]\n",
      " [0 2 0 0 0]\n",
      " [0 0 3 0 0]\n",
      " [0 0 0 4 0]]\n"
     ]
    }
   ],
   "source": [
    "#Create a 5x5 matrix with values 1,2,3,4 just below the diagonal \n",
    "import numpy as np\n",
    "N=np.diag(1+np.arange(4),k=-1)\n",
    "print(N)"
   ]
  },
  {
   "cell_type": "code",
   "execution_count": 24,
   "metadata": {},
   "outputs": [
    {
     "name": "stdout",
     "output_type": "stream",
     "text": [
      "[[0 1 0 1 0 1 0 1]\n",
      " [1 0 1 0 1 0 1 0]\n",
      " [0 1 0 1 0 1 0 1]\n",
      " [1 0 1 0 1 0 1 0]\n",
      " [0 1 0 1 0 1 0 1]\n",
      " [1 0 1 0 1 0 1 0]\n",
      " [0 1 0 1 0 1 0 1]\n",
      " [1 0 1 0 1 0 1 0]]\n"
     ]
    }
   ],
   "source": [
    "#Create a 8x8 matrix and fill it with a checkerboard pattern\n",
    "import numpy as np\n",
    "N=np.zeros((8,8),dtype=int)\n",
    "N[1::2,::2]=1\n",
    "N[::2,1::2]=1\n",
    "print(N)"
   ]
  },
  {
   "cell_type": "code",
   "execution_count": 25,
   "metadata": {},
   "outputs": [
    {
     "name": "stdout",
     "output_type": "stream",
     "text": [
      "(1, 5, 3)\n"
     ]
    }
   ],
   "source": [
    "#Consider a (6,7,8) shape array, what is the index (x,y,z) of the 100th element?\n",
    "import numpy as np\n",
    "print(np.unravel_index(99,(6,7,8)))"
   ]
  },
  {
   "cell_type": "code",
   "execution_count": 26,
   "metadata": {},
   "outputs": [
    {
     "name": "stdout",
     "output_type": "stream",
     "text": [
      "[[0 1 0 1 0 1 0 1]\n",
      " [1 0 1 0 1 0 1 0]\n",
      " [0 1 0 1 0 1 0 1]\n",
      " [1 0 1 0 1 0 1 0]\n",
      " [0 1 0 1 0 1 0 1]\n",
      " [1 0 1 0 1 0 1 0]\n",
      " [0 1 0 1 0 1 0 1]\n",
      " [1 0 1 0 1 0 1 0]]\n"
     ]
    }
   ],
   "source": [
    "#Create a checkerboard 8x8 matrix using the tile function\n",
    "import numpy as np\n",
    "N=np.tile( np.array([[0,1],[1,0]]), (4,4))\n",
    "print(N)"
   ]
  },
  {
   "cell_type": "code",
   "execution_count": 27,
   "metadata": {},
   "outputs": [
    {
     "name": "stdout",
     "output_type": "stream",
     "text": [
      "[[ 1.03535601  0.09431829 -1.14381597  1.57595865 -0.93448693]\n",
      " [-1.17984519 -1.1523158   0.65905485 -0.88431614  0.43047997]\n",
      " [ 0.84454743 -1.28407579  1.72624109 -0.29148521  0.90047944]\n",
      " [-0.71878427 -0.88919089  0.36242679 -0.65063501 -1.27819849]\n",
      " [ 0.72825027 -0.86678172  0.05354588  1.51837837  1.34489438]]\n"
     ]
    }
   ],
   "source": [
    "#Normalize a 5x5 random matrix\n",
    "import numpy as np\n",
    "N=np.random.random((5,5))\n",
    "N=(N - np.mean (N)) / (np.std (N))\n",
    "print(N)"
   ]
  },
  {
   "cell_type": "code",
   "execution_count": 28,
   "metadata": {},
   "outputs": [
    {
     "name": "stdout",
     "output_type": "stream",
     "text": [
      "[('r', 'u1'), ('g', 'u1'), ('b', 'u1'), ('a', 'u1')]\n"
     ]
    }
   ],
   "source": [
    "#Create a custom dtype that describes a color as four unsigned bytes (RGBA)\n",
    "import numpy as np\n",
    "color=np.dtype([(\"r\", np.ubyte),\n",
    "                  (\"g\", np.ubyte),\n",
    "                  (\"b\", np.ubyte),\n",
    "                  (\"a\", np.ubyte)])\n",
    "print(color)"
   ]
  },
  {
   "cell_type": "code",
   "execution_count": 29,
   "metadata": {},
   "outputs": [
    {
     "name": "stdout",
     "output_type": "stream",
     "text": [
      "[[0.17807161 0.86313014]\n",
      " [0.12538582 0.3948189 ]\n",
      " [0.44205267 1.52615957]\n",
      " [0.41440995 1.41734127]\n",
      " [0.24250231 0.7542196 ]]\n"
     ]
    }
   ],
   "source": [
    "#Multiply a 5x3 matrix by a 3x2 matrix (real matrix product)\n",
    "import numpy as np\n",
    "N=np.dot(np.random.random((5,3)),np.random.random((3,2)))\n",
    "print(N)"
   ]
  },
  {
   "cell_type": "markdown",
   "metadata": {},
   "source": []
  },
  {
   "cell_type": "code",
   "execution_count": 30,
   "metadata": {},
   "outputs": [
    {
     "name": "stdout",
     "output_type": "stream",
     "text": [
      "[ 0  1  2  3 -4 -5 -6 -7  8  9 10]\n"
     ]
    }
   ],
   "source": [
    "#Given a 1D array, negate all elements which are between 3 and 8, in place\n",
    "import numpy as np\n",
    "N=np.arange(11)\n",
    "N[(3<N)&(N<8)]*=-1\n",
    "print(N)"
   ]
  },
  {
   "cell_type": "code",
   "execution_count": 31,
   "metadata": {},
   "outputs": [
    {
     "name": "stdout",
     "output_type": "stream",
     "text": [
      "9\n",
      "10\n"
     ]
    }
   ],
   "source": [
    "#What is the output of the following script?\n",
    "import numpy\n",
    "print(sum(range(5),-1))\n",
    "from numpy import *\n",
    "print(sum(range(5),-1))"
   ]
  },
  {
   "cell_type": "code",
   "execution_count": 32,
   "metadata": {},
   "outputs": [
    {
     "name": "stdout",
     "output_type": "stream",
     "text": [
      "0.6924109546965251\n",
      "0j\n",
      "False\n"
     ]
    }
   ],
   "source": [
    "#Consider an integer vector Z, which of these expressions are legal?\n",
    "import numpy\n",
    "from numpy import *\n",
    "Z=np.random.random()\n",
    "print(Z**Z)\n",
    "#(2 << Z >> 2)\n",
    "Z=(Z <- Z)\n",
    "print(1j*Z)\n",
    "Z=(Z/1/1)\n",
    "print(Z<Z>Z)"
   ]
  },
  {
   "cell_type": "code",
   "execution_count": 33,
   "metadata": {},
   "outputs": [
    {
     "name": "stdout",
     "output_type": "stream",
     "text": [
      "nan\n",
      "0\n",
      "[-2.14748365e+09]\n"
     ]
    },
    {
     "name": "stderr",
     "output_type": "stream",
     "text": [
      "C:\\Users\\user\\Anaconda3\\lib\\site-packages\\ipykernel_launcher.py:3: RuntimeWarning: invalid value encountered in true_divide\n",
      "  This is separate from the ipykernel package so we can avoid doing imports until\n",
      "C:\\Users\\user\\Anaconda3\\lib\\site-packages\\ipykernel_launcher.py:4: RuntimeWarning: divide by zero encountered in floor_divide\n",
      "  after removing the cwd from sys.path.\n"
     ]
    }
   ],
   "source": [
    "#What are the result of the following expressions?\n",
    "import numpy as np\n",
    "print(np.array(0) / np.array(0))\n",
    "print(np.array(0) // np.array(0))\n",
    "print(np.array([np.nan]).astype(int).astype(float))"
   ]
  },
  {
   "cell_type": "code",
   "execution_count": 34,
   "metadata": {},
   "outputs": [
    {
     "name": "stdout",
     "output_type": "stream",
     "text": [
      "[-9.  3. -9. 10.  2.  9. -6. -1. -5.  7.]\n"
     ]
    }
   ],
   "source": [
    "#How to round away from zero a float array ?\n",
    "import numpy as np\n",
    "N=np.random.uniform(-10,+10,10)\n",
    "print(np.copysign(np.ceil(np.abs(N)), N))"
   ]
  },
  {
   "cell_type": "code",
   "execution_count": 35,
   "metadata": {},
   "outputs": [
    {
     "name": "stdout",
     "output_type": "stream",
     "text": [
      "[3 9 6 7 9 8 0 5 7 2]\n",
      "[5 0 4 0 1 2 7 9 3 2]\n",
      "[0 2 3 5 7 9]\n"
     ]
    }
   ],
   "source": [
    "#How to find common values between two arrays?\n",
    "import numpy as np\n",
    "N1=np.random.randint(0,10,10)\n",
    "print(N1)\n",
    "N2=np.random.randint(0,10,10)\n",
    "print(N2)\n",
    "print(np.intersect1d(N1,N2))"
   ]
  },
  {
   "cell_type": "code",
   "execution_count": 36,
   "metadata": {},
   "outputs": [],
   "source": [
    "#How to ignore all numpy warnings (not recommended)?\n",
    "import numpy as np\n",
    "with np.errstate(all=\"ignore\"):\n",
    "    np.arange(3) / 0"
   ]
  },
  {
   "cell_type": "code",
   "execution_count": 37,
   "metadata": {},
   "outputs": [
    {
     "name": "stderr",
     "output_type": "stream",
     "text": [
      "C:\\Users\\user\\Anaconda3\\lib\\site-packages\\ipykernel_launcher.py:3: RuntimeWarning: invalid value encountered in sqrt\n",
      "  This is separate from the ipykernel package so we can avoid doing imports until\n"
     ]
    },
    {
     "data": {
      "text/plain": [
       "False"
      ]
     },
     "execution_count": 37,
     "metadata": {},
     "output_type": "execute_result"
    }
   ],
   "source": [
    "#Is the following expressions true?\n",
    "import numpy as np\n",
    "np.sqrt(-1)==np.emath.sqrt(-1)"
   ]
  },
  {
   "cell_type": "code",
   "execution_count": 38,
   "metadata": {},
   "outputs": [],
   "source": [
    "#How to get the dates of yesterday, today and tomorrow?\n",
    "import numpy as np\n",
    "yesterday=np.datetime64('today') - np.timedelta64(1)\n",
    "today=np.datetime64('today')\n",
    "tomorrow=np.datetime64('today') + np.timedelta64(1)"
   ]
  },
  {
   "cell_type": "code",
   "execution_count": 39,
   "metadata": {},
   "outputs": [
    {
     "name": "stdout",
     "output_type": "stream",
     "text": [
      "['2016-07-01' '2016-07-02' '2016-07-03' '2016-07-04' '2016-07-05'\n",
      " '2016-07-06' '2016-07-07' '2016-07-08' '2016-07-09' '2016-07-10'\n",
      " '2016-07-11' '2016-07-12' '2016-07-13' '2016-07-14' '2016-07-15'\n",
      " '2016-07-16' '2016-07-17' '2016-07-18' '2016-07-19' '2016-07-20'\n",
      " '2016-07-21' '2016-07-22' '2016-07-23' '2016-07-24' '2016-07-25'\n",
      " '2016-07-26' '2016-07-27' '2016-07-28' '2016-07-29' '2016-07-30'\n",
      " '2016-07-31']\n"
     ]
    }
   ],
   "source": [
    "#How to get all the dates corresponding to the month of July 2016?\n",
    "import numpy as np\n",
    "N=np.arange('2016-07', '2016-08', dtype='datetime64[D]')\n",
    "print(N)"
   ]
  },
  {
   "cell_type": "code",
   "execution_count": 40,
   "metadata": {},
   "outputs": [
    {
     "data": {
      "text/plain": [
       "array([-1.5, -1.5, -1.5])"
      ]
     },
     "execution_count": 40,
     "metadata": {},
     "output_type": "execute_result"
    }
   ],
   "source": [
    "#How to compute ((A+B)*(-A/2)) in place (without copy)?\n",
    "import numpy as np\n",
    "A=np.ones(3)*1\n",
    "B=np.ones(3)*2\n",
    "np.add(A,B,out=B)\n",
    "np.divide(A,2,out=A)\n",
    "np.negative(A,out=A)\n",
    "np.multiply(A,B,out=A)"
   ]
  },
  {
   "cell_type": "code",
   "execution_count": 41,
   "metadata": {},
   "outputs": [
    {
     "name": "stdout",
     "output_type": "stream",
     "text": [
      "[3. 8. 2. 9. 6. 7. 3. 1. 8. 4.]\n",
      "[3. 8. 2. 9. 6. 7. 3. 1. 8. 4.]\n",
      "[3. 8. 2. 9. 6. 7. 3. 1. 8. 4.]\n",
      "[3 8 2 9 6 7 3 1 8 4]\n",
      "[3. 8. 2. 9. 6. 7. 3. 1. 8. 4.]\n"
     ]
    }
   ],
   "source": [
    "#Extract the integer part of a random array of positive numbers using 4 different methods\n",
    "import numpy as np\n",
    "N=np.random.uniform(0,10,10)\n",
    "print(N - N%1)\n",
    "print(N // 1)\n",
    "print(np.floor(N))\n",
    "print(N.astype(int))\n",
    "print(np.trunc(N))"
   ]
  },
  {
   "cell_type": "code",
   "execution_count": 42,
   "metadata": {},
   "outputs": [
    {
     "name": "stdout",
     "output_type": "stream",
     "text": [
      "[[0. 1. 2. 3. 4.]\n",
      " [0. 1. 2. 3. 4.]\n",
      " [0. 1. 2. 3. 4.]\n",
      " [0. 1. 2. 3. 4.]\n",
      " [0. 1. 2. 3. 4.]]\n"
     ]
    }
   ],
   "source": [
    "#Create a 5x5 matrix with row values ranging from 0 to 4\n",
    "import numpy as np\n",
    "N=np.zeros((5,5))\n",
    "N+=np.arange(5)\n",
    "print(N)"
   ]
  },
  {
   "cell_type": "code",
   "execution_count": 43,
   "metadata": {},
   "outputs": [
    {
     "name": "stdout",
     "output_type": "stream",
     "text": [
      "[[0 1 2 3 4]\n",
      " [0 1 2 3 4]\n",
      " [0 1 2 3 4]\n",
      " [0 1 2 3 4]\n",
      " [0 1 2 3 4]]\n"
     ]
    }
   ],
   "source": [
    "#Create a 5x5 matrix with row values ranging from 0 to 4\n",
    "import numpy as np\n",
    "N=np.tile(np.arange(0, 5), (5,1))\n",
    "print(N)"
   ]
  },
  {
   "cell_type": "code",
   "execution_count": 44,
   "metadata": {},
   "outputs": [
    {
     "name": "stdout",
     "output_type": "stream",
     "text": [
      "[0. 1. 2. 3. 4. 5. 6. 7. 8. 9.]\n"
     ]
    }
   ],
   "source": [
    "#Consider a generator function that generates 10 integers and use it to build an array \n",
    "import numpy as np\n",
    "def generate():\n",
    "    for x in range(10):\n",
    "        yield x\n",
    "N=np.fromiter(generate(),dtype=float,count=-1)\n",
    "print(N)"
   ]
  },
  {
   "cell_type": "code",
   "execution_count": 45,
   "metadata": {},
   "outputs": [
    {
     "name": "stdout",
     "output_type": "stream",
     "text": [
      "[0.09090909 0.18181818 0.27272727 0.36363636 0.45454545 0.54545455\n",
      " 0.63636364 0.72727273 0.81818182 0.90909091]\n"
     ]
    }
   ],
   "source": [
    "#Create a vector of size 10 with values ranging from 0 to 1, both excluded\n",
    "import numpy as np\n",
    "N=np.linspace(0,1,11,endpoint=False)[1:]\n",
    "print(N)"
   ]
  },
  {
   "cell_type": "code",
   "execution_count": 46,
   "metadata": {},
   "outputs": [
    {
     "name": "stdout",
     "output_type": "stream",
     "text": [
      "[0.0756972  0.1721663  0.2093749  0.44075608 0.51329694 0.54375864\n",
      " 0.63845091 0.80617535 0.80912756 0.87949798]\n"
     ]
    }
   ],
   "source": [
    "#Create a random vector of size 10 and sort it\n",
    "import numpy as np\n",
    "N=np.random.random(10)\n",
    "N.sort()\n",
    "print(N)"
   ]
  },
  {
   "cell_type": "code",
   "execution_count": 47,
   "metadata": {},
   "outputs": [
    {
     "data": {
      "text/plain": [
       "45"
      ]
     },
     "execution_count": 47,
     "metadata": {},
     "output_type": "execute_result"
    }
   ],
   "source": [
    "#How to sum a small array faster than np.sum?\n",
    "import numpy as np\n",
    "N=np.arange(10)\n",
    "np.add.reduce(N)"
   ]
  },
  {
   "cell_type": "code",
   "execution_count": 48,
   "metadata": {},
   "outputs": [
    {
     "name": "stdout",
     "output_type": "stream",
     "text": [
      "False\n",
      "False\n"
     ]
    }
   ],
   "source": [
    "#Consider two random array A and B, check if they are equal\n",
    "import numpy as np\n",
    "A=np.random.randint(0,2,5)\n",
    "B=np.random.randint(0,2,5)\n",
    "E=np.allclose(A,B)\n",
    "print(E)\n",
    "E=np.array_equal(A,B)\n",
    "print(E)"
   ]
  },
  {
   "cell_type": "code",
   "execution_count": 49,
   "metadata": {},
   "outputs": [],
   "source": [
    "#Make an array immutable (read-only)\n",
    "import numpy as np\n",
    "N=np.zeros(10)\n",
    "N.flags.writeable=False\n",
    "#N[0]=1"
   ]
  },
  {
   "cell_type": "code",
   "execution_count": 50,
   "metadata": {},
   "outputs": [
    {
     "name": "stdout",
     "output_type": "stream",
     "text": [
      "[1.04411709 0.75376831 1.02221392 0.51955855 0.72657062 0.82464962\n",
      " 1.19362321 0.16980079 0.97763468 0.81377263]\n",
      "[1.16660387 1.02255531 0.83858724 0.8588932  0.2176791  0.95324034\n",
      " 0.6149958  0.05697802 0.92009976 0.04256509]\n"
     ]
    }
   ],
   "source": [
    "#Consider a random 10x2 matrix representing cartesian coordinates, convert them to polar coordinates\n",
    "import numpy as np\n",
    "N=np.random.random((10,2))\n",
    "X,Y=N[:,0], N[:,1]\n",
    "P=np.sqrt(X**2+Y**2)\n",
    "Q=np.arctan2(Y,X)\n",
    "print(P)\n",
    "print(Q)"
   ]
  },
  {
   "cell_type": "code",
   "execution_count": 51,
   "metadata": {},
   "outputs": [
    {
     "name": "stdout",
     "output_type": "stream",
     "text": [
      "[0.77286769 0.86900425 0.79231981 0.57150802 0.1753284  0.56806263\n",
      " 0.40610368 0.47609455 0.         0.13882111]\n"
     ]
    }
   ],
   "source": [
    "#Create random vector of size 10 and replace the maximum value by 0\n",
    "import numpy as np\n",
    "N=np.random.random(10)\n",
    "N[N.argmax()] = 0\n",
    "print(N)"
   ]
  },
  {
   "cell_type": "code",
   "execution_count": 52,
   "metadata": {},
   "outputs": [
    {
     "name": "stdout",
     "output_type": "stream",
     "text": [
      "[[(0.  , 0.  ) (0.25, 0.  ) (0.5 , 0.  ) (0.75, 0.  ) (1.  , 0.  )]\n",
      " [(0.  , 0.25) (0.25, 0.25) (0.5 , 0.25) (0.75, 0.25) (1.  , 0.25)]\n",
      " [(0.  , 0.5 ) (0.25, 0.5 ) (0.5 , 0.5 ) (0.75, 0.5 ) (1.  , 0.5 )]\n",
      " [(0.  , 0.75) (0.25, 0.75) (0.5 , 0.75) (0.75, 0.75) (1.  , 0.75)]\n",
      " [(0.  , 1.  ) (0.25, 1.  ) (0.5 , 1.  ) (0.75, 1.  ) (1.  , 1.  )]]\n"
     ]
    }
   ],
   "source": [
    "#Create a structured array with x and y coordinates covering the [0,1]x[0,1] area\n",
    "import numpy as np\n",
    "N=np.zeros((5,5), [('x',float),('y',float)])\n",
    "N['x'], N['y'] = np.meshgrid(np.linspace(0,1,5),\n",
    "                             np.linspace(0,1,5))\n",
    "print(N)"
   ]
  },
  {
   "cell_type": "code",
   "execution_count": 53,
   "metadata": {},
   "outputs": [
    {
     "name": "stdout",
     "output_type": "stream",
     "text": [
      "3638.1636371179666\n"
     ]
    }
   ],
   "source": [
    "#Given two arrays, X and Y, construct the Cauchy matrix C (Cij =1/(xi - yj)) \n",
    "import numpy as np\n",
    "X=np.arange(8)\n",
    "Y=X+0.5\n",
    "C=1.0/np.subtract.outer(X,Y)\n",
    "print(np.linalg.det(C))"
   ]
  },
  {
   "cell_type": "code",
   "execution_count": 54,
   "metadata": {},
   "outputs": [
    {
     "name": "stdout",
     "output_type": "stream",
     "text": [
      "-128\n",
      "127\n",
      "-2147483648\n",
      "2147483647\n",
      "-9223372036854775808\n",
      "9223372036854775807\n",
      "-3.4028235e+38\n",
      "3.4028235e+38\n",
      "1.1920929e-07\n",
      "-1.7976931348623157e+308\n",
      "1.7976931348623157e+308\n",
      "2.220446049250313e-16\n"
     ]
    }
   ],
   "source": [
    "#Print the minimum and maximum representable value for each numpy scalar type (★★☆)\n",
    "import numpy as np\n",
    "for dtype in [np.int8, np.int32, np.int64]:\n",
    "   print(np.iinfo(dtype).min)\n",
    "   print(np.iinfo(dtype).max)\n",
    "for dtype in [np.float32, np.float64]:\n",
    "   print(np.finfo(dtype).min)\n",
    "   print(np.finfo(dtype).max)\n",
    "   print(np.finfo(dtype).eps)"
   ]
  },
  {
   "cell_type": "code",
   "execution_count": 55,
   "metadata": {},
   "outputs": [
    {
     "name": "stdout",
     "output_type": "stream",
     "text": [
      "[[0. 0. 0. 0. 0. 0. 0. 0. 0. 0. 0. 0. 0. 0. 0. 0. 0. 0. 0. 0. 0. 0. 0. 0.\n",
      "  0. 0. 0. 0. 0. 0. 0. 0. 0. 0. 0. 0. 0. 0. 0. 0.]\n",
      " [0. 0. 0. 0. 0. 0. 0. 0. 0. 0. 0. 0. 0. 0. 0. 0. 0. 0. 0. 0. 0. 0. 0. 0.\n",
      "  0. 0. 0. 0. 0. 0. 0. 0. 0. 0. 0. 0. 0. 0. 0. 0.]\n",
      " [0. 0. 0. 0. 0. 0. 0. 0. 0. 0. 0. 0. 0. 0. 0. 0. 0. 0. 0. 0. 0. 0. 0. 0.\n",
      "  0. 0. 0. 0. 0. 0. 0. 0. 0. 0. 0. 0. 0. 0. 0. 0.]\n",
      " [0. 0. 0. 0. 0. 0. 0. 0. 0. 0. 0. 0. 0. 0. 0. 0. 0. 0. 0. 0. 0. 0. 0. 0.\n",
      "  0. 0. 0. 0. 0. 0. 0. 0. 0. 0. 0. 0. 0. 0. 0. 0.]\n",
      " [0. 0. 0. 0. 0. 0. 0. 0. 0. 0. 0. 0. 0. 0. 0. 0. 0. 0. 0. 0. 0. 0. 0. 0.\n",
      "  0. 0. 0. 0. 0. 0. 0. 0. 0. 0. 0. 0. 0. 0. 0. 0.]\n",
      " [0. 0. 0. 0. 0. 0. 0. 0. 0. 0. 0. 0. 0. 0. 0. 0. 0. 0. 0. 0. 0. 0. 0. 0.\n",
      "  0. 0. 0. 0. 0. 0. 0. 0. 0. 0. 0. 0. 0. 0. 0. 0.]\n",
      " [0. 0. 0. 0. 0. 0. 0. 0. 0. 0. 0. 0. 0. 0. 0. 0. 0. 0. 0. 0. 0. 0. 0. 0.\n",
      "  0. 0. 0. 0. 0. 0. 0. 0. 0. 0. 0. 0. 0. 0. 0. 0.]\n",
      " [0. 0. 0. 0. 0. 0. 0. 0. 0. 0. 0. 0. 0. 0. 0. 0. 0. 0. 0. 0. 0. 0. 0. 0.\n",
      "  0. 0. 0. 0. 0. 0. 0. 0. 0. 0. 0. 0. 0. 0. 0. 0.]\n",
      " [0. 0. 0. 0. 0. 0. 0. 0. 0. 0. 0. 0. 0. 0. 0. 0. 0. 0. 0. 0. 0. 0. 0. 0.\n",
      "  0. 0. 0. 0. 0. 0. 0. 0. 0. 0. 0. 0. 0. 0. 0. 0.]\n",
      " [0. 0. 0. 0. 0. 0. 0. 0. 0. 0. 0. 0. 0. 0. 0. 0. 0. 0. 0. 0. 0. 0. 0. 0.\n",
      "  0. 0. 0. 0. 0. 0. 0. 0. 0. 0. 0. 0. 0. 0. 0. 0.]\n",
      " [0. 0. 0. 0. 0. 0. 0. 0. 0. 0. 0. 0. 0. 0. 0. 0. 0. 0. 0. 0. 0. 0. 0. 0.\n",
      "  0. 0. 0. 0. 0. 0. 0. 0. 0. 0. 0. 0. 0. 0. 0. 0.]\n",
      " [0. 0. 0. 0. 0. 0. 0. 0. 0. 0. 0. 0. 0. 0. 0. 0. 0. 0. 0. 0. 0. 0. 0. 0.\n",
      "  0. 0. 0. 0. 0. 0. 0. 0. 0. 0. 0. 0. 0. 0. 0. 0.]\n",
      " [0. 0. 0. 0. 0. 0. 0. 0. 0. 0. 0. 0. 0. 0. 0. 0. 0. 0. 0. 0. 0. 0. 0. 0.\n",
      "  0. 0. 0. 0. 0. 0. 0. 0. 0. 0. 0. 0. 0. 0. 0. 0.]\n",
      " [0. 0. 0. 0. 0. 0. 0. 0. 0. 0. 0. 0. 0. 0. 0. 0. 0. 0. 0. 0. 0. 0. 0. 0.\n",
      "  0. 0. 0. 0. 0. 0. 0. 0. 0. 0. 0. 0. 0. 0. 0. 0.]\n",
      " [0. 0. 0. 0. 0. 0. 0. 0. 0. 0. 0. 0. 0. 0. 0. 0. 0. 0. 0. 0. 0. 0. 0. 0.\n",
      "  0. 0. 0. 0. 0. 0. 0. 0. 0. 0. 0. 0. 0. 0. 0. 0.]\n",
      " [0. 0. 0. 0. 0. 0. 0. 0. 0. 0. 0. 0. 0. 0. 0. 0. 0. 0. 0. 0. 0. 0. 0. 0.\n",
      "  0. 0. 0. 0. 0. 0. 0. 0. 0. 0. 0. 0. 0. 0. 0. 0.]\n",
      " [0. 0. 0. 0. 0. 0. 0. 0. 0. 0. 0. 0. 0. 0. 0. 0. 0. 0. 0. 0. 0. 0. 0. 0.\n",
      "  0. 0. 0. 0. 0. 0. 0. 0. 0. 0. 0. 0. 0. 0. 0. 0.]\n",
      " [0. 0. 0. 0. 0. 0. 0. 0. 0. 0. 0. 0. 0. 0. 0. 0. 0. 0. 0. 0. 0. 0. 0. 0.\n",
      "  0. 0. 0. 0. 0. 0. 0. 0. 0. 0. 0. 0. 0. 0. 0. 0.]\n",
      " [0. 0. 0. 0. 0. 0. 0. 0. 0. 0. 0. 0. 0. 0. 0. 0. 0. 0. 0. 0. 0. 0. 0. 0.\n",
      "  0. 0. 0. 0. 0. 0. 0. 0. 0. 0. 0. 0. 0. 0. 0. 0.]\n",
      " [0. 0. 0. 0. 0. 0. 0. 0. 0. 0. 0. 0. 0. 0. 0. 0. 0. 0. 0. 0. 0. 0. 0. 0.\n",
      "  0. 0. 0. 0. 0. 0. 0. 0. 0. 0. 0. 0. 0. 0. 0. 0.]\n",
      " [0. 0. 0. 0. 0. 0. 0. 0. 0. 0. 0. 0. 0. 0. 0. 0. 0. 0. 0. 0. 0. 0. 0. 0.\n",
      "  0. 0. 0. 0. 0. 0. 0. 0. 0. 0. 0. 0. 0. 0. 0. 0.]\n",
      " [0. 0. 0. 0. 0. 0. 0. 0. 0. 0. 0. 0. 0. 0. 0. 0. 0. 0. 0. 0. 0. 0. 0. 0.\n",
      "  0. 0. 0. 0. 0. 0. 0. 0. 0. 0. 0. 0. 0. 0. 0. 0.]\n",
      " [0. 0. 0. 0. 0. 0. 0. 0. 0. 0. 0. 0. 0. 0. 0. 0. 0. 0. 0. 0. 0. 0. 0. 0.\n",
      "  0. 0. 0. 0. 0. 0. 0. 0. 0. 0. 0. 0. 0. 0. 0. 0.]\n",
      " [0. 0. 0. 0. 0. 0. 0. 0. 0. 0. 0. 0. 0. 0. 0. 0. 0. 0. 0. 0. 0. 0. 0. 0.\n",
      "  0. 0. 0. 0. 0. 0. 0. 0. 0. 0. 0. 0. 0. 0. 0. 0.]\n",
      " [0. 0. 0. 0. 0. 0. 0. 0. 0. 0. 0. 0. 0. 0. 0. 0. 0. 0. 0. 0. 0. 0. 0. 0.\n",
      "  0. 0. 0. 0. 0. 0. 0. 0. 0. 0. 0. 0. 0. 0. 0. 0.]\n",
      " [0. 0. 0. 0. 0. 0. 0. 0. 0. 0. 0. 0. 0. 0. 0. 0. 0. 0. 0. 0. 0. 0. 0. 0.\n",
      "  0. 0. 0. 0. 0. 0. 0. 0. 0. 0. 0. 0. 0. 0. 0. 0.]\n",
      " [0. 0. 0. 0. 0. 0. 0. 0. 0. 0. 0. 0. 0. 0. 0. 0. 0. 0. 0. 0. 0. 0. 0. 0.\n",
      "  0. 0. 0. 0. 0. 0. 0. 0. 0. 0. 0. 0. 0. 0. 0. 0.]\n",
      " [0. 0. 0. 0. 0. 0. 0. 0. 0. 0. 0. 0. 0. 0. 0. 0. 0. 0. 0. 0. 0. 0. 0. 0.\n",
      "  0. 0. 0. 0. 0. 0. 0. 0. 0. 0. 0. 0. 0. 0. 0. 0.]\n",
      " [0. 0. 0. 0. 0. 0. 0. 0. 0. 0. 0. 0. 0. 0. 0. 0. 0. 0. 0. 0. 0. 0. 0. 0.\n",
      "  0. 0. 0. 0. 0. 0. 0. 0. 0. 0. 0. 0. 0. 0. 0. 0.]\n",
      " [0. 0. 0. 0. 0. 0. 0. 0. 0. 0. 0. 0. 0. 0. 0. 0. 0. 0. 0. 0. 0. 0. 0. 0.\n",
      "  0. 0. 0. 0. 0. 0. 0. 0. 0. 0. 0. 0. 0. 0. 0. 0.]\n",
      " [0. 0. 0. 0. 0. 0. 0. 0. 0. 0. 0. 0. 0. 0. 0. 0. 0. 0. 0. 0. 0. 0. 0. 0.\n",
      "  0. 0. 0. 0. 0. 0. 0. 0. 0. 0. 0. 0. 0. 0. 0. 0.]\n",
      " [0. 0. 0. 0. 0. 0. 0. 0. 0. 0. 0. 0. 0. 0. 0. 0. 0. 0. 0. 0. 0. 0. 0. 0.\n",
      "  0. 0. 0. 0. 0. 0. 0. 0. 0. 0. 0. 0. 0. 0. 0. 0.]\n",
      " [0. 0. 0. 0. 0. 0. 0. 0. 0. 0. 0. 0. 0. 0. 0. 0. 0. 0. 0. 0. 0. 0. 0. 0.\n",
      "  0. 0. 0. 0. 0. 0. 0. 0. 0. 0. 0. 0. 0. 0. 0. 0.]\n",
      " [0. 0. 0. 0. 0. 0. 0. 0. 0. 0. 0. 0. 0. 0. 0. 0. 0. 0. 0. 0. 0. 0. 0. 0.\n",
      "  0. 0. 0. 0. 0. 0. 0. 0. 0. 0. 0. 0. 0. 0. 0. 0.]\n",
      " [0. 0. 0. 0. 0. 0. 0. 0. 0. 0. 0. 0. 0. 0. 0. 0. 0. 0. 0. 0. 0. 0. 0. 0.\n",
      "  0. 0. 0. 0. 0. 0. 0. 0. 0. 0. 0. 0. 0. 0. 0. 0.]\n",
      " [0. 0. 0. 0. 0. 0. 0. 0. 0. 0. 0. 0. 0. 0. 0. 0. 0. 0. 0. 0. 0. 0. 0. 0.\n",
      "  0. 0. 0. 0. 0. 0. 0. 0. 0. 0. 0. 0. 0. 0. 0. 0.]\n",
      " [0. 0. 0. 0. 0. 0. 0. 0. 0. 0. 0. 0. 0. 0. 0. 0. 0. 0. 0. 0. 0. 0. 0. 0.\n",
      "  0. 0. 0. 0. 0. 0. 0. 0. 0. 0. 0. 0. 0. 0. 0. 0.]\n",
      " [0. 0. 0. 0. 0. 0. 0. 0. 0. 0. 0. 0. 0. 0. 0. 0. 0. 0. 0. 0. 0. 0. 0. 0.\n",
      "  0. 0. 0. 0. 0. 0. 0. 0. 0. 0. 0. 0. 0. 0. 0. 0.]\n",
      " [0. 0. 0. 0. 0. 0. 0. 0. 0. 0. 0. 0. 0. 0. 0. 0. 0. 0. 0. 0. 0. 0. 0. 0.\n",
      "  0. 0. 0. 0. 0. 0. 0. 0. 0. 0. 0. 0. 0. 0. 0. 0.]\n",
      " [0. 0. 0. 0. 0. 0. 0. 0. 0. 0. 0. 0. 0. 0. 0. 0. 0. 0. 0. 0. 0. 0. 0. 0.\n",
      "  0. 0. 0. 0. 0. 0. 0. 0. 0. 0. 0. 0. 0. 0. 0. 0.]]\n"
     ]
    }
   ],
   "source": [
    "#How to print all the values of an array?\n",
    "import numpy as np\n",
    "np.set_printoptions(threshold=float(\"inf\"))\n",
    "N=np.zeros((40,40))\n",
    "print(N)"
   ]
  },
  {
   "cell_type": "code",
   "execution_count": 56,
   "metadata": {},
   "outputs": [
    {
     "name": "stdout",
     "output_type": "stream",
     "text": [
      "87\n"
     ]
    }
   ],
   "source": [
    "#How to find the closest value (to a given scalar) in a vector?\n",
    "import numpy as np\n",
    "N=np.arange(100)\n",
    "u=np.random.uniform(0,100)\n",
    "index=(np.abs(N-u)).argmin()\n",
    "print(N[index])"
   ]
  },
  {
   "cell_type": "code",
   "execution_count": 57,
   "metadata": {},
   "outputs": [
    {
     "name": "stdout",
     "output_type": "stream",
     "text": [
      "[((0., 0.), (0., 0., 0.)) ((0., 0.), (0., 0., 0.))\n",
      " ((0., 0.), (0., 0., 0.)) ((0., 0.), (0., 0., 0.))\n",
      " ((0., 0.), (0., 0., 0.)) ((0., 0.), (0., 0., 0.))\n",
      " ((0., 0.), (0., 0., 0.)) ((0., 0.), (0., 0., 0.))\n",
      " ((0., 0.), (0., 0., 0.)) ((0., 0.), (0., 0., 0.))]\n"
     ]
    }
   ],
   "source": [
    "#Create a structured array representing a position (x,y) and a color (r,g,b)\n",
    "import numpy as np\n",
    "N=np.zeros(10, [ ('position', [ ('x', float, 1),\n",
    "                                  ('y', float, 1)]),\n",
    "                   ('color',    [ ('r', float, 1),\n",
    "                                  ('g', float, 1),\n",
    "                                  ('b', float, 1)])])\n",
    "print(N)"
   ]
  },
  {
   "cell_type": "code",
   "execution_count": 58,
   "metadata": {},
   "outputs": [
    {
     "name": "stdout",
     "output_type": "stream",
     "text": [
      "[[0.         0.36179021 0.39962194 0.61044546 0.68827429 0.79342883\n",
      "  0.23186991 0.85555324 0.82125567 0.46779426]\n",
      " [0.36179021 0.         0.48704214 0.6267918  0.46410921 0.44630848\n",
      "  0.22362979 0.64915876 0.58262977 0.23514273]\n",
      " [0.39962194 0.48704214 0.         0.21344814 0.46557576 0.89780863\n",
      "  0.54283565 0.57490213 0.58199269 0.7069417 ]\n",
      " [0.61044546 0.6267918  0.21344814 0.         0.41749327 0.98104089\n",
      "  0.73006416 0.4572402  0.49759813 0.86009799]\n",
      " [0.68827429 0.46410921 0.46557576 0.41749327 0.         0.64213979\n",
      "  0.66790654 0.18505838 0.13301536 0.67304093]\n",
      " [0.79342883 0.44630848 0.89780863 0.98104089 0.64213979 0.\n",
      "  0.59024914 0.78456967 0.68961079 0.3741745 ]\n",
      " [0.23186991 0.22362979 0.54283565 0.73006416 0.66790654 0.59024914\n",
      "  0.         0.85124821 0.79349986 0.23939312]\n",
      " [0.85555324 0.64915876 0.57490213 0.4572402  0.18505838 0.78456967\n",
      "  0.85124821 0.         0.09613036 0.85505786]\n",
      " [0.82125567 0.58262977 0.58199269 0.49759813 0.13301536 0.68961079\n",
      "  0.79349986 0.09613036 0.         0.77755164]\n",
      " [0.46779426 0.23514273 0.7069417  0.86009799 0.67304093 0.3741745\n",
      "  0.23939312 0.85505786 0.77755164 0.        ]]\n",
      "[[0.         0.50363104 0.76564041 0.11589565 0.90403241 0.75696268\n",
      "  0.77735765 0.53371677 0.74827494 0.82300403]\n",
      " [0.50363104 0.         0.66012758 0.38779055 0.73506635 0.30054862\n",
      "  0.59594    0.36806795 0.58977201 0.32233415]\n",
      " [0.76564041 0.66012758 0.         0.71468564 0.15031557 0.562437\n",
      "  0.11296592 0.29891637 0.08840966 0.72944655]\n",
      " [0.11589565 0.38779055 0.71468564 0.         0.84454721 0.64674608\n",
      "  0.71119423 0.45584168 0.68549564 0.70771372]\n",
      " [0.90403241 0.73506635 0.15031557 0.84454721 0.         0.57559748\n",
      "  0.14149888 0.40196413 0.15991568 0.74006366]\n",
      " [0.75696268 0.30054862 0.562437   0.64674608 0.57559748 0.\n",
      "  0.46178478 0.36609273 0.47502325 0.16722259]\n",
      " [0.77735765 0.59594    0.11296592 0.71119423 0.14149888 0.46178478\n",
      "  0.         0.26214065 0.03756497 0.62889292]\n",
      " [0.53371677 0.36806795 0.29891637 0.45584168 0.40196413 0.36609273\n",
      "  0.26214065 0.         0.24321636 0.51551801]\n",
      " [0.74827494 0.58977201 0.08840966 0.68549564 0.15991568 0.47502325\n",
      "  0.03756497 0.24321636 0.         0.64218294]\n",
      " [0.82300403 0.32233415 0.72944655 0.70771372 0.74006366 0.16722259\n",
      "  0.62889292 0.51551801 0.64218294 0.        ]]\n"
     ]
    }
   ],
   "source": [
    "#Consider a random vector with shape (100,2) representing coordinates, find point by point distances\n",
    "import numpy as np\n",
    "N=np.random.random((10,2))\n",
    "X,Y=np.atleast_2d(N[:,0], N[:,1])\n",
    "S=np.sqrt( (X-X.T)**2 + (Y-Y.T)**2)\n",
    "print(S)\n",
    "import scipy\n",
    "import scipy.spatial\n",
    "N=np.random.random((10,2))\n",
    "S=scipy.spatial.distance.cdist(N,N)\n",
    "print(S)"
   ]
  },
  {
   "cell_type": "code",
   "execution_count": 59,
   "metadata": {},
   "outputs": [
    {
     "name": "stdout",
     "output_type": "stream",
     "text": [
      "[82 39 51 37 69 92 97 51 63 61]\n"
     ]
    }
   ],
   "source": [
    "#How to convert a float (32 bits) array into an integer (32 bits) in place?\n",
    "import numpy as np\n",
    "N=(np.random.rand(10)*100).astype(np.float32)\n",
    "Y=N.view(np.int32)\n",
    "Y[:]=N\n",
    "print(Y)"
   ]
  },
  {
   "cell_type": "code",
   "execution_count": 60,
   "metadata": {},
   "outputs": [
    {
     "name": "stdout",
     "output_type": "stream",
     "text": [
      "[[ 1  2  3  4  5]\n",
      " [ 6 -1 -1  7  8]\n",
      " [-1 -1  9 10 11]]\n"
     ]
    }
   ],
   "source": [
    "#How to read the following file?\n",
    "import numpy as np\n",
    "from io import StringIO\n",
    "s = StringIO('''1, 2, 3, 4, 5\n",
    "\n",
    "                6,  ,  , 7, 8\n",
    "\n",
    "                 ,  , 9,10,11\n",
    "''')\n",
    "N=np.genfromtxt(s,delimiter=\",\",dtype=np.int)\n",
    "print(N)"
   ]
  },
  {
   "cell_type": "code",
   "execution_count": 61,
   "metadata": {},
   "outputs": [
    {
     "name": "stdout",
     "output_type": "stream",
     "text": [
      "(0, 0) 0\n",
      "(0, 1) 1\n",
      "(0, 2) 2\n",
      "(1, 0) 3\n",
      "(1, 1) 4\n",
      "(1, 2) 5\n",
      "(2, 0) 6\n",
      "(2, 1) 7\n",
      "(2, 2) 8\n",
      "(0, 0) 0\n",
      "(0, 1) 1\n",
      "(0, 2) 2\n",
      "(1, 0) 3\n",
      "(1, 1) 4\n",
      "(1, 2) 5\n",
      "(2, 0) 6\n",
      "(2, 1) 7\n",
      "(2, 2) 8\n"
     ]
    }
   ],
   "source": [
    "#What is the equivalent of enumerate for numpy arrays?\n",
    "import numpy as np\n",
    "N=np.arange(9).reshape(3,3)\n",
    "for index, value in np.ndenumerate(N):\n",
    "    print(index, value)\n",
    "for index in np.ndindex(N.shape):\n",
    "    print(index, N[index])"
   ]
  },
  {
   "cell_type": "code",
   "execution_count": 62,
   "metadata": {},
   "outputs": [
    {
     "name": "stdout",
     "output_type": "stream",
     "text": [
      "[[0.36787944 0.44822088 0.51979489 0.57375342 0.60279818 0.60279818\n",
      "  0.57375342 0.51979489 0.44822088 0.36787944]\n",
      " [0.44822088 0.54610814 0.63331324 0.69905581 0.73444367 0.73444367\n",
      "  0.69905581 0.63331324 0.54610814 0.44822088]\n",
      " [0.51979489 0.63331324 0.73444367 0.81068432 0.85172308 0.85172308\n",
      "  0.81068432 0.73444367 0.63331324 0.51979489]\n",
      " [0.57375342 0.69905581 0.81068432 0.89483932 0.9401382  0.9401382\n",
      "  0.89483932 0.81068432 0.69905581 0.57375342]\n",
      " [0.60279818 0.73444367 0.85172308 0.9401382  0.98773022 0.98773022\n",
      "  0.9401382  0.85172308 0.73444367 0.60279818]\n",
      " [0.60279818 0.73444367 0.85172308 0.9401382  0.98773022 0.98773022\n",
      "  0.9401382  0.85172308 0.73444367 0.60279818]\n",
      " [0.57375342 0.69905581 0.81068432 0.89483932 0.9401382  0.9401382\n",
      "  0.89483932 0.81068432 0.69905581 0.57375342]\n",
      " [0.51979489 0.63331324 0.73444367 0.81068432 0.85172308 0.85172308\n",
      "  0.81068432 0.73444367 0.63331324 0.51979489]\n",
      " [0.44822088 0.54610814 0.63331324 0.69905581 0.73444367 0.73444367\n",
      "  0.69905581 0.63331324 0.54610814 0.44822088]\n",
      " [0.36787944 0.44822088 0.51979489 0.57375342 0.60279818 0.60279818\n",
      "  0.57375342 0.51979489 0.44822088 0.36787944]]\n"
     ]
    }
   ],
   "source": [
    "#Generate a generic 2D Gaussian-like array\n",
    "import numpy as np\n",
    "X, Y=np.meshgrid(np.linspace(-1,1,10), np.linspace(-1,1,10))\n",
    "S=np.sqrt(X*X+Y*Y)\n",
    "sig,mu=1.0,0.0\n",
    "E=np.exp(-( (S-mu)**2 / ( 2.0 * sig**2 ) ) )\n",
    "print(E)"
   ]
  },
  {
   "cell_type": "code",
   "execution_count": 63,
   "metadata": {},
   "outputs": [
    {
     "name": "stdout",
     "output_type": "stream",
     "text": [
      "[[0. 0. 0. 0. 0. 0. 0. 0. 0. 0.]\n",
      " [0. 1. 0. 0. 0. 0. 0. 0. 0. 0.]\n",
      " [0. 0. 0. 0. 0. 0. 0. 0. 0. 0.]\n",
      " [0. 0. 0. 0. 0. 0. 0. 0. 0. 0.]\n",
      " [0. 0. 0. 0. 1. 0. 0. 0. 0. 0.]\n",
      " [0. 0. 0. 0. 0. 0. 0. 0. 0. 0.]\n",
      " [0. 0. 0. 0. 0. 0. 0. 0. 0. 0.]\n",
      " [0. 0. 0. 0. 0. 0. 0. 0. 0. 0.]\n",
      " [0. 0. 0. 0. 0. 0. 0. 1. 0. 0.]\n",
      " [0. 0. 0. 0. 0. 0. 0. 0. 0. 0.]]\n"
     ]
    }
   ],
   "source": [
    "#How to randomly place p elements in a 2D array? \n",
    "import numpy as np\n",
    "n=10\n",
    "p=3\n",
    "N=np.zeros((n,n))\n",
    "np.put(N, np.random.choice(range(n*n), p, replace=False),1)\n",
    "print(N)"
   ]
  },
  {
   "cell_type": "code",
   "execution_count": 64,
   "metadata": {},
   "outputs": [
    {
     "name": "stdout",
     "output_type": "stream",
     "text": [
      "[[ 0.32162085 -0.15266831  0.29502668  0.24269985 -0.05432954 -0.13796681\n",
      "  -0.13648196 -0.36778703  0.01922978 -0.02934351]\n",
      " [-0.26038742  0.3158304  -0.25365445  0.14450626 -0.27773523  0.15220814\n",
      "   0.04868006 -0.07243585 -0.38834038  0.59132848]\n",
      " [ 0.05646113  0.35679935 -0.27394244  0.42448261 -0.17977404  0.27621399\n",
      "   0.20554802 -0.07102653 -0.37328643 -0.42147566]\n",
      " [-0.1634396  -0.28202447  0.16738195  0.03850181  0.39532361 -0.32650067\n",
      "  -0.0061828   0.298498    0.11650546 -0.23806329]\n",
      " [ 0.00949316 -0.20005761  0.24875916 -0.08409104 -0.46471372  0.09941953\n",
      "  -0.49672872  0.29981624  0.2730481   0.3150549 ]]\n"
     ]
    }
   ],
   "source": [
    "#Subtract the mean of each row of a matrix\n",
    "import numpy as np\n",
    "X=np.random.rand(5, 10)\n",
    "Y=X-X.mean(axis=1,keepdims=True)\n",
    "Y=X-X.mean(axis=1).reshape(-1, 1)\n",
    "print(Y)"
   ]
  },
  {
   "cell_type": "code",
   "execution_count": 65,
   "metadata": {},
   "outputs": [
    {
     "name": "stdout",
     "output_type": "stream",
     "text": [
      "[[7 8 9]\n",
      " [6 8 8]\n",
      " [2 5 2]]\n",
      "[[2 5 2]\n",
      " [7 8 9]\n",
      " [6 8 8]]\n"
     ]
    }
   ],
   "source": [
    "#How to sort an array by the nth column?\n",
    "import numpy as np\n",
    "N=np.random.randint(0,10,(3,3))\n",
    "print(N)\n",
    "print(N[N[:,1].argsort()])"
   ]
  },
  {
   "cell_type": "code",
   "execution_count": 66,
   "metadata": {},
   "outputs": [
    {
     "name": "stdout",
     "output_type": "stream",
     "text": [
      "True\n"
     ]
    }
   ],
   "source": [
    "#How to tell if a given 2D array has null columns?\n",
    "import numpy as np\n",
    "N=np.random.randint(0,3,(3,10))\n",
    "print((~N.any(axis=0)).any())"
   ]
  },
  {
   "cell_type": "code",
   "execution_count": 67,
   "metadata": {},
   "outputs": [
    {
     "name": "stdout",
     "output_type": "stream",
     "text": [
      "0.47360173475344924\n"
     ]
    }
   ],
   "source": [
    "#Find the nearest value from a given value in an array (★★☆)\n",
    "N=np.random.uniform(0,1,10)\n",
    "n=0.5\n",
    "F=N.flat[np.abs(N-n).argmin()]\n",
    "print(F)"
   ]
  },
  {
   "cell_type": "code",
   "execution_count": 68,
   "metadata": {},
   "outputs": [
    {
     "name": "stdout",
     "output_type": "stream",
     "text": [
      "[[0 1 2]\n",
      " [1 2 3]\n",
      " [2 3 4]]\n"
     ]
    }
   ],
   "source": [
    "#Considering two arrays with shape (1,3) and (3,1), how to compute their sum using an iterator? \n",
    "import numpy as np\n",
    "A=np.arange(3).reshape(3,1)\n",
    "B=np.arange(3).reshape(1,3)\n",
    "it=np.nditer([A,B,None])\n",
    "for x,y,z in it: z[...]=x+y\n",
    "print(it.operands[2])"
   ]
  },
  {
   "cell_type": "code",
   "execution_count": 69,
   "metadata": {},
   "outputs": [
    {
     "name": "stdout",
     "output_type": "stream",
     "text": [
      "range_10\n"
     ]
    }
   ],
   "source": [
    "#Create an array class that has a name attribute\n",
    "import numpy as np\n",
    "class NamedArray(np.ndarray):\n",
    "    def __new__(cls, array, name=\"no name\"):\n",
    "        obj=np.asarray(array).view(cls)\n",
    "        obj.name=name\n",
    "        return obj\n",
    "    def __array_finalize__(self, obj):\n",
    "        if obj is None: return\n",
    "        self.info=getattr(obj,'name',\"no name\")\n",
    "N=NamedArray(np.arange(10), \"range_10\")\n",
    "print(N.name)"
   ]
  },
  {
   "cell_type": "code",
   "execution_count": 70,
   "metadata": {},
   "outputs": [
    {
     "name": "stdout",
     "output_type": "stream",
     "text": [
      "[2. 4. 2. 2. 3. 1. 5. 3. 3. 5.]\n"
     ]
    }
   ],
   "source": [
    "#Consider a given vector, how to add 1 to each element indexed by a second vector (be careful with repeated indices)?\n",
    "import numpy as np\n",
    "N=np.ones(10)\n",
    "I=np.random.randint(0,len(N),20)\n",
    "N+=np.bincount(I,minlength=len(N))\n",
    "print(N)"
   ]
  },
  {
   "cell_type": "code",
   "execution_count": 71,
   "metadata": {},
   "outputs": [
    {
     "name": "stdout",
     "output_type": "stream",
     "text": [
      "[2. 4. 3. 6. 4. 1. 2. 3. 3. 2.]\n"
     ]
    }
   ],
   "source": [
    "#Consider a given vector, how to add 1 to each element indexed by a second vector (be careful with repeated indices)? \n",
    "import numpy as np\n",
    "Z = np.ones(10)\n",
    "I = np.random.randint(0,len(Z),20)\n",
    "np.add.at(Z, I, 1)\n",
    "print(Z)"
   ]
  },
  {
   "cell_type": "code",
   "execution_count": 72,
   "metadata": {},
   "outputs": [
    {
     "name": "stdout",
     "output_type": "stream",
     "text": [
      "[0. 7. 0. 6. 5. 0. 0. 0. 0. 3.]\n"
     ]
    }
   ],
   "source": [
    "#How to accumulate elements of a vector (X) to an array (F) based on an index list (I)?\n",
    "import numpy as np\n",
    "X=[1,2,3,4,5,6]\n",
    "I=[1,3,9,3,4,1]\n",
    "B=np.bincount(I,X)\n",
    "print(B)"
   ]
  },
  {
   "cell_type": "code",
   "execution_count": 73,
   "metadata": {},
   "outputs": [
    {
     "name": "stdout",
     "output_type": "stream",
     "text": [
      "64\n"
     ]
    }
   ],
   "source": [
    "#Considering a (w,h,3) image of (dtype=ubyte), compute the number of unique colors\n",
    "import numpy as np\n",
    "w,h=256,256\n",
    "I=np.random.randint(0,4,(h,w,3)).astype(np.ubyte)\n",
    "colors=np.unique(I.reshape(-1,3),axis=0)\n",
    "n=len(colors)\n",
    "print(n)\n"
   ]
  },
  {
   "cell_type": "code",
   "execution_count": 74,
   "metadata": {},
   "outputs": [
    {
     "name": "stdout",
     "output_type": "stream",
     "text": [
      "[[61 61 53 29]\n",
      " [41 48 15 65]\n",
      " [48 48 43 36]]\n",
      "[[61 61 53 29]\n",
      " [41 48 15 65]\n",
      " [48 48 43 36]]\n"
     ]
    }
   ],
   "source": [
    "#Considering a four dimensions array, how to get sum over the last two axis at once?\n",
    "import numpy as np\n",
    "A=np.random.randint(0,10,(3,4,3,4))\n",
    "sum = A.sum(axis=(-2,-1))\n",
    "print(sum)\n",
    "sum = A.reshape(A.shape[:-2] + (-1,)).sum(axis=-1)\n",
    "print(sum)"
   ]
  },
  {
   "cell_type": "code",
   "execution_count": 75,
   "metadata": {},
   "outputs": [
    {
     "name": "stdout",
     "output_type": "stream",
     "text": [
      "[0.43576897 0.55818525 0.54246085 0.54739127 0.48335271 0.4248411\n",
      " 0.5593571  0.51680088 0.57070232 0.50220212]\n",
      "0    0.435769\n",
      "1    0.558185\n",
      "2    0.542461\n",
      "3    0.547391\n",
      "4    0.483353\n",
      "5    0.424841\n",
      "6    0.559357\n",
      "7    0.516801\n",
      "8    0.570702\n",
      "9    0.502202\n",
      "dtype: float64\n"
     ]
    }
   ],
   "source": [
    "#Considering a one-dimensional vector D, how to compute means of subsets of D using a vector S of same size describing subset indices? (★★★)\n",
    "import numpy as np\n",
    "U=np.random.uniform(0,1,100)\n",
    "R=np.random.randint(0,10,100)\n",
    "U_sums=np.bincount(R,weights=U)\n",
    "U_counts=np.bincount(R)\n",
    "U_means=U_sums/U_counts\n",
    "print(U_means)\n",
    "import pandas as pd\n",
    "print(pd.Series(U).groupby(R).mean())"
   ]
  },
  {
   "cell_type": "code",
   "execution_count": 76,
   "metadata": {},
   "outputs": [
    {
     "name": "stdout",
     "output_type": "stream",
     "text": [
      "[0.38419517 0.56432175 0.96601224 0.88874069 1.95033775]\n",
      "[0.38419517 0.56432175 0.96601224 0.88874069 1.95033775]\n",
      "[0.38419517 0.56432175 0.96601224 0.88874069 1.95033775]\n"
     ]
    }
   ],
   "source": [
    "#How to get the diagonal of a dot product?\n",
    "import numpy as np\n",
    "A=np.random.uniform(0,1,(5,5))\n",
    "B=np.random.uniform(0,1,(5,5))\n",
    "D1=np.diag(np.dot(A, B))\n",
    "print(D1)\n",
    "D2=np.sum(A * B.T, axis=1)\n",
    "print(D2)\n",
    "D3=np.einsum(\"ij,ji->i\", A, B)\n",
    "print(D3)"
   ]
  },
  {
   "cell_type": "code",
   "execution_count": 77,
   "metadata": {},
   "outputs": [
    {
     "name": "stdout",
     "output_type": "stream",
     "text": [
      "[1. 0. 0. 0. 2. 0. 0. 0. 3. 0. 0. 0. 4. 0. 0. 0. 5.]\n"
     ]
    }
   ],
   "source": [
    "#Consider the vector [1, 2, 3, 4, 5], how to build a new vector with 3 consecutive zeros interleaved between each value?\n",
    "import numpy as np\n",
    "N=np.array([1,2,3,4,5])\n",
    "nz=3\n",
    "N0=np.zeros(len(N)+(len(N)-1)*(nz))\n",
    "N0[::nz+1]=N\n",
    "print(N0)"
   ]
  },
  {
   "cell_type": "code",
   "execution_count": 78,
   "metadata": {},
   "outputs": [
    {
     "name": "stdout",
     "output_type": "stream",
     "text": [
      "[[[2. 2. 2.]\n",
      "  [2. 2. 2.]\n",
      "  [2. 2. 2.]\n",
      "  [2. 2. 2.]\n",
      "  [2. 2. 2.]]\n",
      "\n",
      " [[2. 2. 2.]\n",
      "  [2. 2. 2.]\n",
      "  [2. 2. 2.]\n",
      "  [2. 2. 2.]\n",
      "  [2. 2. 2.]]\n",
      "\n",
      " [[2. 2. 2.]\n",
      "  [2. 2. 2.]\n",
      "  [2. 2. 2.]\n",
      "  [2. 2. 2.]\n",
      "  [2. 2. 2.]]\n",
      "\n",
      " [[2. 2. 2.]\n",
      "  [2. 2. 2.]\n",
      "  [2. 2. 2.]\n",
      "  [2. 2. 2.]\n",
      "  [2. 2. 2.]]\n",
      "\n",
      " [[2. 2. 2.]\n",
      "  [2. 2. 2.]\n",
      "  [2. 2. 2.]\n",
      "  [2. 2. 2.]\n",
      "  [2. 2. 2.]]]\n"
     ]
    }
   ],
   "source": [
    "#Consider an array of dimension (5,5,3), how to mulitply it by an array with dimensions (5,5)?\n",
    "import numpy as np\n",
    "A=np.ones((5,5,3))\n",
    "B=2*np.ones((5,5))\n",
    "print(A*B[:,:,None])"
   ]
  },
  {
   "cell_type": "code",
   "execution_count": 79,
   "metadata": {},
   "outputs": [
    {
     "name": "stdout",
     "output_type": "stream",
     "text": [
      "[[ 5  6  7  8  9]\n",
      " [ 0  1  2  3  4]\n",
      " [10 11 12 13 14]\n",
      " [15 16 17 18 19]\n",
      " [20 21 22 23 24]]\n"
     ]
    }
   ],
   "source": [
    "#How to swap two rows of an array?\n",
    "import numpy as np\n",
    "A=np.arange(25).reshape(5,5)\n",
    "A[[0,1]]=A[[1,0]]\n",
    "print(A)"
   ]
  },
  {
   "cell_type": "code",
   "execution_count": 80,
   "metadata": {},
   "outputs": [
    {
     "name": "stdout",
     "output_type": "stream",
     "text": [
      "[( 2, 76) ( 2, 99) ( 9, 41) ( 9, 42) ( 9, 52) ( 9, 68) (13, 24) (13, 92)\n",
      " (21, 22) (21, 48) (22, 48) (24, 92) (41, 42) (43, 67) (43, 91) (46, 52)\n",
      " (46, 99) (52, 68) (52, 99) (53, 58) (53, 99) (55, 70) (55, 85) (58, 99)\n",
      " (63, 66) (63, 79) (66, 79) (67, 91) (70, 85) (76, 99)]\n"
     ]
    }
   ],
   "source": [
    "#Consider a set of 10 triplets describing 10 triangles (with shared vertices), find the set of unique line segments composing all the triangles\n",
    "import numpy as np\n",
    "faces=np.random.randint(0,100,(10,3))\n",
    "F=np.roll(faces.repeat(2,axis=1),-1,axis=1)\n",
    "F=F.reshape(len(F)*3,2)\n",
    "F=np.sort(F,axis=1)\n",
    "G=F.view( dtype=[('p0',F.dtype),('p1',F.dtype)] )\n",
    "G=np.unique(G)\n",
    "print(G)"
   ]
  },
  {
   "cell_type": "code",
   "execution_count": 81,
   "metadata": {},
   "outputs": [
    {
     "name": "stdout",
     "output_type": "stream",
     "text": [
      "[1 1 2 3 4 4 6]\n"
     ]
    }
   ],
   "source": [
    "#Given a sorted array C that corresponds to a bincount, how to produce an array A such that np.bincount(A) == C?\n",
    "import numpy as np\n",
    "C=np.bincount([1,1,2,3,4,4,6])\n",
    "A=np.repeat(np.arange(len(C)), C)\n",
    "print(A)"
   ]
  },
  {
   "cell_type": "code",
   "execution_count": 82,
   "metadata": {},
   "outputs": [
    {
     "name": "stdout",
     "output_type": "stream",
     "text": [
      "[ 1.  2.  3.  4.  5.  6.  7.  8.  9. 10. 11. 12. 13. 14. 15. 16. 17. 18.]\n"
     ]
    }
   ],
   "source": [
    "#How to compute averages using a sliding window over an array?\n",
    "import numpy as np\n",
    "def moving_average(a,n=3):\n",
    "    ret=np.cumsum(a,dtype=float)\n",
    "    ret[n:]=ret[n:]-ret[:-n]\n",
    "    return ret[n-1:]/n\n",
    "N=np.arange(20)\n",
    "print(moving_average(N,n=3))"
   ]
  },
  {
   "cell_type": "code",
   "execution_count": 83,
   "metadata": {},
   "outputs": [
    {
     "name": "stdout",
     "output_type": "stream",
     "text": [
      "[[0 1 2]\n",
      " [1 2 3]\n",
      " [2 3 4]\n",
      " [3 4 5]\n",
      " [4 5 6]\n",
      " [5 6 7]\n",
      " [6 7 8]\n",
      " [7 8 9]]\n"
     ]
    }
   ],
   "source": [
    "#Consider a one-dimensional array Z, build a two-dimensional array whose first row is (Z[0],Z[1],Z[2]) and each subsequent row is shifted by 1 (last row should be (Z[-3],Z[-2],Z[-1])\n",
    "import numpy as np\n",
    "from numpy.lib import stride_tricks\n",
    "def rolling(a, window):\n",
    "    shape=(a.size-window+1,window)\n",
    "    strides=(a.strides[0],a.strides[0])\n",
    "    return stride_tricks.as_strided(a,shape=shape,strides=strides)\n",
    "N=rolling(np.arange(10),3)\n",
    "print(N)"
   ]
  },
  {
   "cell_type": "code",
   "execution_count": 84,
   "metadata": {},
   "outputs": [
    {
     "data": {
      "text/plain": [
       "array([-0.40827545,  0.9307427 ,  0.39974701,  0.81847908,  0.26375162,\n",
       "        0.50731326, -0.33117766,  0.78816151,  0.22235923,  0.13997114,\n",
       "        0.35429464, -0.19227256, -0.33122709, -0.08753682, -0.73094151,\n",
       "        0.66938864,  0.28233049,  0.33698686,  0.66261716, -0.16683681,\n",
       "        0.80467882, -0.98604109, -0.64308283,  0.25480111,  0.10819003,\n",
       "        0.59525322, -0.15653985,  0.36279166,  0.40048912,  0.95840946,\n",
       "       -0.23452916,  0.46620857,  0.04938147,  0.34987943,  0.5771779 ,\n",
       "       -0.34132752,  0.00398375,  0.82250524, -0.94547121, -0.12043366,\n",
       "        0.5747651 , -0.40669195,  0.1671652 ,  0.59514572, -0.30356617,\n",
       "        0.63883011,  0.18376032,  0.08609317, -0.56842404,  0.26653349,\n",
       "        0.39161397,  0.66922492, -0.53486043, -0.29798323,  0.85904544,\n",
       "        0.27850443,  0.45877602, -0.82039307,  0.99652436,  0.26949204,\n",
       "        0.96039305,  0.79975834, -0.60433211, -0.66209576, -0.04978104,\n",
       "        0.2045449 , -0.37802268, -0.20296772,  0.46806742,  0.3554876 ,\n",
       "       -0.96670356, -0.84788561, -0.92259816,  0.94036132,  0.87803614,\n",
       "       -0.19265949,  0.02383408,  0.29136557, -0.18426316, -0.99992508,\n",
       "       -0.13626417,  0.42205864,  0.77621554, -0.03038192, -0.38306611,\n",
       "        0.6212133 ,  0.47851361,  0.83563173, -0.73298516,  0.63313166,\n",
       "       -0.8589629 , -0.11136158, -0.38700239, -0.61542418, -0.20348356,\n",
       "       -0.36179873, -0.26304018, -0.74932093,  0.89434338, -0.44339803])"
      ]
     },
     "execution_count": 84,
     "metadata": {},
     "output_type": "execute_result"
    }
   ],
   "source": [
    "#How to negate a boolean, or to change the sign of a float inplace?\n",
    "import numpy as np\n",
    "N=np.random.randint(0,2,100)\n",
    "np.logical_not(N,out=N)\n",
    "N=np.random.uniform(-1.0,1.0,100)\n",
    "np.negative(N,out=N)"
   ]
  },
  {
   "cell_type": "code",
   "execution_count": 85,
   "metadata": {},
   "outputs": [
    {
     "name": "stdout",
     "output_type": "stream",
     "text": [
      "[0.86318528 3.2939342  3.87191813 4.18821679 7.9330403  3.31989974\n",
      " 4.14835389 3.54338271 9.62673842 6.47718668]\n"
     ]
    }
   ],
   "source": [
    "#Consider 2 sets of points P0,P1 describing lines (2d) and a point p, how to compute distance from p to each line i (P0[i],P1[i])?\n",
    "import numpy as np\n",
    "def distance(P0,P1,p):\n",
    "    T=P1-P0\n",
    "    L=(T**2).sum(axis=1)\n",
    "    U=-((P0[:,0]-p[...,0])*T[:,0]+(P0[:,1]-p[...,1])*T[:,1])/L\n",
    "    U=U.reshape(len(U),1)\n",
    "    D=P0+U*T-p\n",
    "    return np.sqrt((D**2).sum(axis=1))\n",
    "P0=np.random.uniform(-10,10,(10,2))\n",
    "P1=np.random.uniform(-10,10,(10,2))\n",
    "p=np.random.uniform(-10,10,(1,2))\n",
    "print(distance(P0,P1,p))"
   ]
  },
  {
   "cell_type": "code",
   "execution_count": 86,
   "metadata": {},
   "outputs": [
    {
     "name": "stdout",
     "output_type": "stream",
     "text": [
      "[[9.87975372e+00 5.71740170e+00 3.60861303e-01 3.80604468e+00\n",
      "  3.36651239e+00 6.65848351e+00 4.67125322e+00 1.49714017e+01\n",
      "  2.21374998e+00 6.78234574e-01]\n",
      " [3.44623301e+00 8.07520967e-01 5.20322856e+00 2.57946935e+00\n",
      "  2.95342703e+00 2.19177315e+00 5.61954835e+00 1.22648367e+01\n",
      "  2.98283696e+00 5.58640125e+00]\n",
      " [6.49266702e+00 1.40780063e+00 4.01188770e+00 5.48012725e-01\n",
      "  7.98406491e-01 5.73020501e+00 7.45632126e+00 1.54705011e+01\n",
      "  5.80196517e-01 2.02128974e+00]\n",
      " [9.55796016e+00 4.23910252e+00 1.23677383e+01 1.57801429e+01\n",
      "  1.33590079e+01 1.08624120e+01 1.07149521e+00 1.35234395e+00\n",
      "  1.66044284e+01 1.90171471e+01]\n",
      " [1.02077035e+01 5.17930555e+00 1.53099011e-02 4.17898716e+00\n",
      "  3.30577698e+00 7.53680492e+00 5.66779975e+00 1.59888808e+01\n",
      "  2.98253613e+00 1.39229706e-01]\n",
      " [3.64208693e+00 1.54205481e+00 7.12531920e+00 2.23469930e+00\n",
      "  3.97475435e+00 4.39015647e+00 8.90281899e+00 1.51351576e+01\n",
      "  1.22738167e+00 3.63881946e+00]\n",
      " [6.42706667e+00 7.35611101e+00 9.51477436e-01 1.21955704e-01\n",
      "  2.05041046e+00 7.34340430e-01 4.84024348e-01 8.75114033e+00\n",
      "  3.30663277e+00 6.38740784e+00]\n",
      " [9.31978422e+00 8.38471692e+00 1.57833805e+01 1.52833483e+01\n",
      "  1.52267378e+01 7.12576055e+00 6.77173591e+00 6.28015569e+00\n",
      "  1.36462122e+01 1.57217154e+01]\n",
      " [8.15693768e+00 1.03523279e+01 3.85025738e+00 1.73806516e+00\n",
      "  4.56374594e+00 5.52180328e-01 2.96034927e+00 7.60912191e+00\n",
      "  2.98058152e+00 6.27364982e+00]\n",
      " [5.03644558e+00 2.74508368e+00 3.22203117e+00 1.04468630e+00\n",
      "  1.03968114e+00 2.69837190e+00 4.42564700e+00 1.21261908e+01\n",
      "  2.16107994e+00 4.89413623e+00]]\n"
     ]
    }
   ],
   "source": [
    "#Consider 2 sets of points P0,P1 describing lines (2d) and a set of points P, how to compute distance from each point j (P[j]) to each line i (P0[i],P1[i])? \n",
    "import numpy as np\n",
    "P0=np.random.uniform(-10, 10, (10,2))\n",
    "P1=np.random.uniform(-10,10,(10,2))\n",
    "p=np.random.uniform(-10, 10, (10,2))\n",
    "print(np.array([distance(P0,P1,p_i) for p_i in p]))"
   ]
  },
  {
   "cell_type": "code",
   "execution_count": 87,
   "metadata": {},
   "outputs": [
    {
     "name": "stdout",
     "output_type": "stream",
     "text": [
      "[[3 6 7 2 0 6 6 7 6 8]\n",
      " [2 0 6 4 8 8 3 3 5 0]\n",
      " [2 1 6 6 5 7 4 3 8 0]\n",
      " [1 5 8 8 4 5 5 3 7 2]\n",
      " [0 4 8 1 9 3 5 5 6 5]\n",
      " [6 7 9 9 9 0 7 6 6 2]\n",
      " [5 9 6 7 9 5 8 9 5 1]\n",
      " [4 3 0 5 5 6 6 2 1 7]\n",
      " [6 1 6 2 7 8 5 3 4 0]\n",
      " [3 7 1 0 5 2 2 3 0 4]]\n",
      "[[0. 0. 0. 0. 0.]\n",
      " [0. 3. 6. 7. 2.]\n",
      " [0. 2. 0. 6. 4.]\n",
      " [0. 2. 1. 6. 6.]\n",
      " [0. 1. 5. 8. 8.]]\n"
     ]
    },
    {
     "name": "stderr",
     "output_type": "stream",
     "text": [
      "C:\\Users\\user\\Anaconda3\\lib\\site-packages\\ipykernel_launcher.py:25: FutureWarning: Using a non-tuple sequence for multidimensional indexing is deprecated; use `arr[tuple(seq)]` instead of `arr[seq]`. In the future this will be interpreted as an array index, `arr[np.array(seq)]`, which will result either in an error or a different result.\n"
     ]
    }
   ],
   "source": [
    "#Consider an arbitrary array, write a function that extract a subpart with a fixed shape and centered on a given element (pad with a fill value when necessary)\n",
    "import numpy as np\n",
    "N=np.random.randint(0,10,(10,10))\n",
    "shape=(5,5)\n",
    "fill=0\n",
    "position=(1,1)\n",
    "\n",
    "R=np.ones(shape, dtype=Z.dtype)*fill\n",
    "P=np.array(list(position)).astype(int)\n",
    "Rs=np.array(list(R.shape)).astype(int)\n",
    "Ns=np.array(list(Z.shape)).astype(int)\n",
    "\n",
    "R_start=np.zeros((len(shape),)).astype(int)\n",
    "R_stop=np.array(list(shape)).astype(int)\n",
    "N_start=(P-Rs//2)\n",
    "N_stop=(P+Rs//2)+Rs%2\n",
    "\n",
    "R_start=(R_start - np.minimum(N_start,0)).tolist()\n",
    "N_start=(np.maximum(N_start,0)).tolist()\n",
    "R_stop=np.maximum(R_start, (R_stop - np.maximum(N_stop-Ns,0))).tolist()\n",
    "N_stop=(np.minimum(N_stop,Ns)).tolist()\n",
    "\n",
    "r=[slice(start,stop) for start,stop in zip(R_start,R_stop)]\n",
    "n=[slice(start,stop) for start,stop in zip(N_start,N_stop)]\n",
    "R[r]=N[n]\n",
    "print(N)\n",
    "print(R)"
   ]
  },
  {
   "cell_type": "code",
   "execution_count": 88,
   "metadata": {},
   "outputs": [
    {
     "name": "stdout",
     "output_type": "stream",
     "text": [
      "[[ 1  2  3  4]\n",
      " [ 2  3  4  5]\n",
      " [ 3  4  5  6]\n",
      " [ 4  5  6  7]\n",
      " [ 5  6  7  8]\n",
      " [ 6  7  8  9]\n",
      " [ 7  8  9 10]\n",
      " [ 8  9 10 11]\n",
      " [ 9 10 11 12]\n",
      " [10 11 12 13]\n",
      " [11 12 13 14]]\n"
     ]
    }
   ],
   "source": [
    "#Consider an array Z = [1,2,3,4,5,6,7,8,9,10,11,12,13,14], how to generate an array R = [[1,2,3,4], [2,3,4,5], [3,4,5,6], ..., [11,12,13,14]]?\n",
    "import numpy as np\n",
    "N=np.arange(1,15,dtype=np.uint32)\n",
    "R=stride_tricks.as_strided(N,(11,4),(4,4))\n",
    "print(R)"
   ]
  },
  {
   "cell_type": "code",
   "execution_count": 89,
   "metadata": {},
   "outputs": [
    {
     "name": "stdout",
     "output_type": "stream",
     "text": [
      "10\n"
     ]
    }
   ],
   "source": [
    "#Compute a matrix rank\n",
    "import numpy as np\n",
    "N=np.random.uniform(0,1,(10,10))\n",
    "U,S,V=np.linalg.svd(N)\n",
    "rank=np.sum(S > 1e-10)\n",
    "print(rank)"
   ]
  },
  {
   "cell_type": "code",
   "execution_count": 90,
   "metadata": {},
   "outputs": [
    {
     "name": "stdout",
     "output_type": "stream",
     "text": [
      "0\n"
     ]
    }
   ],
   "source": [
    "#How to find the most frequent value in an array?\n",
    "N=np.random.randint(0,10,50)\n",
    "print(np.bincount(N).argmax())"
   ]
  },
  {
   "cell_type": "code",
   "execution_count": 91,
   "metadata": {},
   "outputs": [
    {
     "name": "stdout",
     "output_type": "stream",
     "text": [
      "[[[[1 4 4]\n",
      "   [2 2 3]\n",
      "   [1 3 4]]\n",
      "\n",
      "  [[4 4 2]\n",
      "   [2 3 2]\n",
      "   [3 4 3]]\n",
      "\n",
      "  [[4 2 3]\n",
      "   [3 2 0]\n",
      "   [4 3 1]]\n",
      "\n",
      "  [[2 3 2]\n",
      "   [2 0 2]\n",
      "   [3 1 4]]\n",
      "\n",
      "  [[3 2 1]\n",
      "   [0 2 0]\n",
      "   [1 4 2]]\n",
      "\n",
      "  [[2 1 2]\n",
      "   [2 0 2]\n",
      "   [4 2 1]]\n",
      "\n",
      "  [[1 2 1]\n",
      "   [0 2 2]\n",
      "   [2 1 3]]\n",
      "\n",
      "  [[2 1 1]\n",
      "   [2 2 1]\n",
      "   [1 3 1]]]\n",
      "\n",
      "\n",
      " [[[2 2 3]\n",
      "   [1 3 4]\n",
      "   [1 1 3]]\n",
      "\n",
      "  [[2 3 2]\n",
      "   [3 4 3]\n",
      "   [1 3 3]]\n",
      "\n",
      "  [[3 2 0]\n",
      "   [4 3 1]\n",
      "   [3 3 3]]\n",
      "\n",
      "  [[2 0 2]\n",
      "   [3 1 4]\n",
      "   [3 3 1]]\n",
      "\n",
      "  [[0 2 0]\n",
      "   [1 4 2]\n",
      "   [3 1 2]]\n",
      "\n",
      "  [[2 0 2]\n",
      "   [4 2 1]\n",
      "   [1 2 1]]\n",
      "\n",
      "  [[0 2 2]\n",
      "   [2 1 3]\n",
      "   [2 1 3]]\n",
      "\n",
      "  [[2 2 1]\n",
      "   [1 3 1]\n",
      "   [1 3 0]]]\n",
      "\n",
      "\n",
      " [[[1 3 4]\n",
      "   [1 1 3]\n",
      "   [1 2 1]]\n",
      "\n",
      "  [[3 4 3]\n",
      "   [1 3 3]\n",
      "   [2 1 1]]\n",
      "\n",
      "  [[4 3 1]\n",
      "   [3 3 3]\n",
      "   [1 1 1]]\n",
      "\n",
      "  [[3 1 4]\n",
      "   [3 3 1]\n",
      "   [1 1 0]]\n",
      "\n",
      "  [[1 4 2]\n",
      "   [3 1 2]\n",
      "   [1 0 3]]\n",
      "\n",
      "  [[4 2 1]\n",
      "   [1 2 1]\n",
      "   [0 3 2]]\n",
      "\n",
      "  [[2 1 3]\n",
      "   [2 1 3]\n",
      "   [3 2 1]]\n",
      "\n",
      "  [[1 3 1]\n",
      "   [1 3 0]\n",
      "   [2 1 3]]]\n",
      "\n",
      "\n",
      " [[[1 1 3]\n",
      "   [1 2 1]\n",
      "   [1 0 4]]\n",
      "\n",
      "  [[1 3 3]\n",
      "   [2 1 1]\n",
      "   [0 4 0]]\n",
      "\n",
      "  [[3 3 3]\n",
      "   [1 1 1]\n",
      "   [4 0 3]]\n",
      "\n",
      "  [[3 3 1]\n",
      "   [1 1 0]\n",
      "   [0 3 2]]\n",
      "\n",
      "  [[3 1 2]\n",
      "   [1 0 3]\n",
      "   [3 2 4]]\n",
      "\n",
      "  [[1 2 1]\n",
      "   [0 3 2]\n",
      "   [2 4 2]]\n",
      "\n",
      "  [[2 1 3]\n",
      "   [3 2 1]\n",
      "   [4 2 4]]\n",
      "\n",
      "  [[1 3 0]\n",
      "   [2 1 3]\n",
      "   [2 4 3]]]\n",
      "\n",
      "\n",
      " [[[1 2 1]\n",
      "   [1 0 4]\n",
      "   [3 2 4]]\n",
      "\n",
      "  [[2 1 1]\n",
      "   [0 4 0]\n",
      "   [2 4 0]]\n",
      "\n",
      "  [[1 1 1]\n",
      "   [4 0 3]\n",
      "   [4 0 3]]\n",
      "\n",
      "  [[1 1 0]\n",
      "   [0 3 2]\n",
      "   [0 3 2]]\n",
      "\n",
      "  [[1 0 3]\n",
      "   [3 2 4]\n",
      "   [3 2 2]]\n",
      "\n",
      "  [[0 3 2]\n",
      "   [2 4 2]\n",
      "   [2 2 1]]\n",
      "\n",
      "  [[3 2 1]\n",
      "   [4 2 4]\n",
      "   [2 1 0]]\n",
      "\n",
      "  [[2 1 3]\n",
      "   [2 4 3]\n",
      "   [1 0 0]]]\n",
      "\n",
      "\n",
      " [[[1 0 4]\n",
      "   [3 2 4]\n",
      "   [3 2 0]]\n",
      "\n",
      "  [[0 4 0]\n",
      "   [2 4 0]\n",
      "   [2 0 4]]\n",
      "\n",
      "  [[4 0 3]\n",
      "   [4 0 3]\n",
      "   [0 4 3]]\n",
      "\n",
      "  [[0 3 2]\n",
      "   [0 3 2]\n",
      "   [4 3 2]]\n",
      "\n",
      "  [[3 2 4]\n",
      "   [3 2 2]\n",
      "   [3 2 2]]\n",
      "\n",
      "  [[2 4 2]\n",
      "   [2 2 1]\n",
      "   [2 2 4]]\n",
      "\n",
      "  [[4 2 4]\n",
      "   [2 1 0]\n",
      "   [2 4 1]]\n",
      "\n",
      "  [[2 4 3]\n",
      "   [1 0 0]\n",
      "   [4 1 1]]]\n",
      "\n",
      "\n",
      " [[[3 2 4]\n",
      "   [3 2 0]\n",
      "   [0 1 4]]\n",
      "\n",
      "  [[2 4 0]\n",
      "   [2 0 4]\n",
      "   [1 4 4]]\n",
      "\n",
      "  [[4 0 3]\n",
      "   [0 4 3]\n",
      "   [4 4 3]]\n",
      "\n",
      "  [[0 3 2]\n",
      "   [4 3 2]\n",
      "   [4 3 1]]\n",
      "\n",
      "  [[3 2 2]\n",
      "   [3 2 2]\n",
      "   [3 1 4]]\n",
      "\n",
      "  [[2 2 1]\n",
      "   [2 2 4]\n",
      "   [1 4 0]]\n",
      "\n",
      "  [[2 1 0]\n",
      "   [2 4 1]\n",
      "   [4 0 1]]\n",
      "\n",
      "  [[1 0 0]\n",
      "   [4 1 1]\n",
      "   [0 1 3]]]\n",
      "\n",
      "\n",
      " [[[3 2 0]\n",
      "   [0 1 4]\n",
      "   [2 4 1]]\n",
      "\n",
      "  [[2 0 4]\n",
      "   [1 4 4]\n",
      "   [4 1 3]]\n",
      "\n",
      "  [[0 4 3]\n",
      "   [4 4 3]\n",
      "   [1 3 0]]\n",
      "\n",
      "  [[4 3 2]\n",
      "   [4 3 1]\n",
      "   [3 0 0]]\n",
      "\n",
      "  [[3 2 2]\n",
      "   [3 1 4]\n",
      "   [0 0 2]]\n",
      "\n",
      "  [[2 2 4]\n",
      "   [1 4 0]\n",
      "   [0 2 1]]\n",
      "\n",
      "  [[2 4 1]\n",
      "   [4 0 1]\n",
      "   [2 1 2]]\n",
      "\n",
      "  [[4 1 1]\n",
      "   [0 1 3]\n",
      "   [1 2 3]]]]\n"
     ]
    }
   ],
   "source": [
    "#Extract all the contiguous 3x3 blocks from a random 10x10 matrix\n",
    "import numpy as np\n",
    "N=+np.random.randint(0,5,(10,10))\n",
    "n=+3\n",
    "i=+1+(N.shape[0]-3)\n",
    "j=+1+(N.shape[1]-3)\n",
    "C=+stride_tricks.as_strided(N,shape=(i,j,n,n),strides=N.strides+N.strides)\n",
    "print(C)"
   ]
  },
  {
   "cell_type": "code",
   "execution_count": 92,
   "metadata": {},
   "outputs": [
    {
     "name": "stdout",
     "output_type": "stream",
     "text": [
      "[[ 1  8  7 15  9]\n",
      " [ 8  7 11  9  5]\n",
      " [ 7 11  9 42 10]\n",
      " [15  9 42  2  9]\n",
      " [ 9  5 10  9  0]]\n"
     ]
    }
   ],
   "source": [
    "#Create a 2D array subclass such that Z[i,j] == Z[j,i] \n",
    "import numpy as np\n",
    "class Symetric(np.ndarray):\n",
    "    def __setitem__(self, index, value):\n",
    "        i,j=index\n",
    "        super(Symetric, self).__setitem__((i,j), value)\n",
    "        super(Symetric, self).__setitem__((j,i), value)\n",
    "def symetric(Z):\n",
    "    return np.asarray(Z + Z.T - np.diag(Z.diagonal())).view(Symetric)\n",
    "S=symetric(np.random.randint(0,10,(5,5)))\n",
    "S[2,3]=42\n",
    "print(S)"
   ]
  },
  {
   "cell_type": "code",
   "execution_count": 93,
   "metadata": {},
   "outputs": [
    {
     "name": "stdout",
     "output_type": "stream",
     "text": [
      "[[200.]\n",
      " [200.]\n",
      " [200.]\n",
      " [200.]\n",
      " [200.]\n",
      " [200.]\n",
      " [200.]\n",
      " [200.]\n",
      " [200.]\n",
      " [200.]\n",
      " [200.]\n",
      " [200.]\n",
      " [200.]\n",
      " [200.]\n",
      " [200.]\n",
      " [200.]\n",
      " [200.]\n",
      " [200.]\n",
      " [200.]\n",
      " [200.]]\n"
     ]
    }
   ],
   "source": [
    "#Consider a set of p matrices wich shape (n,n) and a set of p vectors with shape (n,1). How to compute the sum of of the p matrix products at once? (result has shape (n,1))\n",
    "import numpy as np\n",
    "p,n=10,20\n",
    "M=np.ones((p,n,n))\n",
    "V=np.ones((p,n,1))\n",
    "S=np.tensordot(M, V, axes=[[0, 2], [0, 1]])\n",
    "print(S)"
   ]
  },
  {
   "cell_type": "code",
   "execution_count": 94,
   "metadata": {},
   "outputs": [
    {
     "name": "stdout",
     "output_type": "stream",
     "text": [
      "[[16. 16. 16. 16.]\n",
      " [16. 16. 16. 16.]\n",
      " [16. 16. 16. 16.]\n",
      " [16. 16. 16. 16.]]\n"
     ]
    }
   ],
   "source": [
    "#Consider a 16x16 array, how to get the block-sum (block size is 4x4)?\n",
    "import numpy as np\n",
    "Z = np.ones((16,16))\n",
    "k = 4\n",
    "S = np.add.reduceat(np.add.reduceat(Z, np.arange(0, Z.shape[0], k), axis=0),\n",
    "                                       np.arange(0, Z.shape[1], k), axis=1)\n",
    "print(S)"
   ]
  },
  {
   "cell_type": "code",
   "execution_count": 95,
   "metadata": {},
   "outputs": [
    {
     "name": "stdout",
     "output_type": "stream",
     "text": [
      "[[0 0 0 0 0 0 0 0 0 0 0 0 0 0 0 0 0 0 0 0 0 0 0 0 0 0 0 0 0 0 0 0 0 0 0 0\n",
      "  0 0 0 0 0 0 0 0 0 0 0 0 0 0]\n",
      " [0 0 0 0 0 0 0 0 1 1 0 0 0 0 0 0 0 0 0 0 0 0 0 0 0 0 0 0 0 0 0 0 0 1 1 0\n",
      "  0 0 0 0 0 0 0 0 0 0 0 0 0 0]\n",
      " [0 0 0 0 0 0 0 0 1 1 0 0 0 0 0 0 0 0 0 0 0 0 0 0 0 0 0 0 0 0 0 0 1 0 0 1\n",
      "  0 0 0 0 0 0 0 0 0 0 0 0 0 0]\n",
      " [0 0 0 0 0 0 0 0 0 0 0 0 0 0 0 0 0 0 0 0 0 0 0 0 0 0 0 0 0 0 0 0 1 0 0 1\n",
      "  0 0 0 0 0 0 0 0 0 1 1 0 0 0]\n",
      " [0 0 0 0 0 0 0 0 0 0 0 1 0 0 0 0 0 0 0 0 0 0 0 0 0 0 0 0 0 0 0 0 0 1 1 0\n",
      "  0 0 0 0 0 0 0 0 0 1 1 0 0 0]\n",
      " [0 0 0 0 0 0 0 0 0 0 1 1 1 0 0 0 0 0 0 0 0 0 0 0 0 0 0 0 0 0 0 0 0 0 0 0\n",
      "  0 0 0 0 0 0 0 0 0 0 0 0 0 0]\n",
      " [0 0 0 0 0 0 0 0 1 1 0 0 0 1 0 0 0 0 0 0 0 0 0 0 0 0 0 0 0 0 0 0 0 0 0 0\n",
      "  0 0 0 0 0 0 0 0 0 0 0 0 0 0]\n",
      " [0 0 0 0 1 1 0 1 1 1 1 1 1 1 0 0 0 0 0 0 0 0 0 0 0 0 0 0 0 0 0 0 0 0 0 0\n",
      "  0 0 0 0 0 0 0 0 0 0 0 0 0 0]\n",
      " [0 0 0 1 0 0 0 0 0 0 1 1 1 0 1 1 0 0 0 0 0 0 0 0 0 0 0 0 0 0 0 1 1 0 0 0\n",
      "  0 1 0 0 0 0 0 0 0 0 0 0 0 0]\n",
      " [0 0 0 1 0 0 0 0 1 1 0 0 0 1 1 1 0 0 0 0 0 0 0 0 0 0 0 0 0 0 0 1 1 0 0 0\n",
      "  1 0 1 0 0 0 0 0 0 0 0 0 0 0]\n",
      " [0 0 0 0 1 1 1 1 1 0 0 0 1 0 1 1 0 0 0 0 0 0 0 0 0 0 0 0 0 0 0 0 0 0 0 0\n",
      "  1 0 0 1 0 0 0 0 0 0 0 0 0 0]\n",
      " [0 0 0 0 0 0 0 0 0 0 0 1 1 1 0 0 0 0 0 0 0 0 0 0 0 0 0 0 0 0 0 0 0 0 0 0\n",
      "  0 1 1 0 0 0 0 0 0 0 0 0 0 0]\n",
      " [0 0 0 0 0 0 0 1 1 0 0 0 0 0 0 0 0 0 0 0 0 0 0 0 0 0 0 0 0 0 0 0 0 0 0 0\n",
      "  0 0 0 0 0 0 0 0 0 0 0 0 0 0]\n",
      " [0 0 0 0 0 0 0 1 1 0 0 0 0 1 1 0 0 0 0 0 0 0 0 0 0 0 0 0 0 0 0 0 0 0 0 0\n",
      "  0 0 0 0 0 0 0 0 0 0 0 0 0 0]\n",
      " [0 0 0 0 0 0 0 1 1 0 0 0 1 1 1 0 0 0 0 0 0 0 0 0 0 0 0 0 0 0 0 0 0 0 0 0\n",
      "  0 0 0 0 0 0 0 0 0 0 0 0 0 0]\n",
      " [0 0 0 0 0 0 0 0 0 0 0 0 1 0 0 0 0 0 0 0 0 0 0 0 0 0 0 0 0 0 0 0 0 0 1 1\n",
      "  0 0 0 0 0 0 0 0 0 0 0 0 0 0]\n",
      " [0 1 1 1 0 0 0 0 0 0 0 0 1 1 1 0 0 0 0 0 0 0 0 0 0 0 0 0 0 0 0 0 0 0 1 1\n",
      "  0 0 0 0 0 0 0 0 0 0 0 0 0 0]\n",
      " [0 1 0 0 0 1 0 0 0 0 0 0 0 0 0 0 0 0 0 0 0 0 0 0 0 0 0 0 0 0 0 0 0 0 0 0\n",
      "  0 0 0 0 0 0 0 0 0 0 0 0 0 0]\n",
      " [0 0 0 0 0 0 0 0 0 1 0 0 0 0 0 1 1 0 0 0 0 0 0 0 0 0 0 0 0 0 0 0 0 0 0 0\n",
      "  0 0 0 0 0 0 0 0 0 0 0 0 0 0]\n",
      " [0 0 0 0 0 0 0 0 1 0 0 0 0 0 0 0 0 0 0 0 0 0 0 0 0 0 0 0 0 0 0 0 0 0 0 0\n",
      "  0 0 0 0 0 0 0 0 0 0 0 0 0 0]\n",
      " [0 1 1 0 0 1 0 0 1 1 0 0 0 0 0 0 0 0 0 0 0 1 0 0 0 0 0 0 0 0 0 0 0 0 0 0\n",
      "  0 0 0 0 0 0 0 0 0 0 0 0 0 0]\n",
      " [0 0 1 0 0 1 1 0 0 1 1 0 0 0 0 1 1 0 0 1 1 0 1 0 0 0 0 0 0 0 0 0 0 0 0 0\n",
      "  0 0 0 0 0 0 0 0 0 0 0 0 0 0]\n",
      " [0 0 0 0 0 0 1 1 1 1 0 1 0 1 1 0 0 0 0 1 0 0 0 0 0 0 0 0 0 0 0 0 0 0 0 0\n",
      "  0 0 0 0 0 0 0 0 0 0 0 0 0 0]\n",
      " [0 0 0 0 0 0 1 1 1 0 0 1 0 1 1 1 0 0 0 0 0 0 1 0 0 0 0 0 0 0 0 0 0 0 0 0\n",
      "  0 0 0 0 0 0 0 0 0 0 0 0 0 0]\n",
      " [0 0 0 0 0 0 0 0 0 0 0 1 0 0 0 0 1 1 1 1 1 0 0 0 0 0 0 0 0 0 0 0 0 0 0 0\n",
      "  0 0 0 0 0 0 0 0 0 0 0 0 0 0]\n",
      " [0 0 0 0 0 0 0 0 0 0 0 0 0 0 0 0 0 0 0 1 1 0 0 0 0 0 0 0 0 0 0 0 0 0 0 0\n",
      "  0 0 0 0 0 0 0 0 0 0 0 0 0 0]\n",
      " [0 0 0 0 0 0 0 0 0 0 0 0 0 0 0 0 0 0 0 0 0 0 0 0 0 1 1 0 0 0 0 0 0 0 0 0\n",
      "  0 0 0 0 0 0 0 0 0 0 0 0 0 0]\n",
      " [0 0 0 0 0 0 0 0 0 0 0 0 0 0 0 0 0 0 0 0 0 0 0 0 0 1 1 0 0 0 0 0 0 0 0 0\n",
      "  0 0 0 0 0 0 0 0 0 0 0 0 0 0]\n",
      " [0 0 0 0 0 0 0 0 0 0 0 0 0 0 0 0 0 0 0 0 0 0 0 0 0 0 0 0 0 0 0 0 0 0 0 0\n",
      "  0 1 0 0 0 0 0 0 0 0 0 0 0 0]\n",
      " [0 0 0 0 0 0 1 1 0 0 0 0 0 0 0 0 0 0 0 0 0 0 0 0 0 0 0 0 0 0 0 0 0 0 0 0\n",
      "  1 1 1 0 0 0 0 0 0 0 0 0 0 0]\n",
      " [0 0 0 0 0 0 1 1 0 0 0 0 0 0 0 0 0 0 0 0 0 0 0 0 0 0 0 0 0 0 0 0 0 0 0 0\n",
      "  1 0 1 0 0 0 0 0 0 0 0 0 0 0]\n",
      " [0 0 0 0 0 0 0 0 0 0 0 0 0 0 0 0 0 0 0 0 0 0 0 0 0 0 0 0 0 0 0 0 0 0 0 0\n",
      "  0 0 0 0 0 0 0 0 0 0 0 0 0 0]\n",
      " [0 0 0 0 0 0 0 0 0 0 0 0 0 0 0 0 0 0 0 0 0 0 0 0 0 0 0 0 0 0 0 0 0 0 0 0\n",
      "  0 0 0 0 0 0 0 0 0 0 0 0 0 0]\n",
      " [0 0 0 0 0 0 0 0 0 0 1 1 0 0 0 0 0 0 0 0 0 0 0 0 0 0 0 0 0 0 0 0 0 0 0 0\n",
      "  0 0 1 1 0 0 0 0 0 0 0 0 0 0]\n",
      " [0 0 0 0 0 0 0 0 0 0 1 1 0 0 0 0 0 0 0 0 0 0 0 0 0 0 0 0 0 0 0 0 0 0 0 0\n",
      "  0 1 1 0 0 0 0 0 0 0 0 0 0 0]\n",
      " [0 0 0 0 0 0 0 0 0 0 0 0 0 0 0 1 1 1 0 0 0 0 0 0 0 0 0 0 0 0 0 0 0 0 1 0\n",
      "  0 1 1 0 0 0 0 0 0 0 0 0 0 0]\n",
      " [0 0 0 0 0 0 0 0 0 0 0 0 0 0 0 1 1 1 0 0 0 0 0 0 0 0 0 0 0 0 0 0 0 0 1 1\n",
      "  1 0 0 0 0 0 0 0 0 0 0 0 0 0]\n",
      " [0 0 0 0 0 0 0 0 0 0 0 0 0 0 1 0 0 0 0 0 0 0 0 0 0 0 0 0 0 0 0 0 0 0 0 1\n",
      "  0 0 0 0 0 0 0 0 0 0 1 1 0 0]\n",
      " [0 0 0 0 0 0 0 0 0 0 0 0 0 0 0 1 1 1 0 0 0 0 0 0 0 0 0 0 0 0 0 0 0 0 0 0\n",
      "  0 0 0 0 0 0 0 0 0 0 1 0 1 0]\n",
      " [0 0 0 0 0 0 0 0 0 0 0 0 0 0 0 1 1 0 0 0 0 0 0 0 0 0 0 0 0 0 0 0 0 0 0 0\n",
      "  0 0 0 0 0 0 0 0 0 0 0 1 0 0]\n",
      " [0 0 0 0 0 0 0 0 0 0 0 0 0 0 0 0 0 0 0 0 1 1 0 0 0 0 0 0 0 0 0 0 0 0 0 0\n",
      "  0 0 0 0 0 0 0 0 0 0 0 0 0 0]\n",
      " [0 0 1 0 0 0 0 0 0 0 0 0 0 0 0 1 0 0 0 0 1 1 0 0 0 0 0 0 0 0 0 0 0 0 0 0\n",
      "  0 0 0 0 0 0 0 0 0 0 0 0 0 0]\n",
      " [0 0 1 0 0 0 0 0 0 0 0 0 0 0 1 0 1 0 0 0 0 0 0 0 0 0 0 0 0 0 0 0 0 0 0 0\n",
      "  0 0 0 0 0 0 0 0 0 0 0 0 0 0]\n",
      " [0 0 1 0 0 0 0 0 0 0 0 0 0 1 1 0 1 1 0 0 0 0 0 0 0 0 0 0 0 0 0 0 0 0 0 1\n",
      "  1 0 0 0 0 0 0 0 0 0 0 0 0 0]\n",
      " [0 0 0 0 0 0 0 0 0 0 0 0 0 0 0 0 0 0 0 0 1 0 0 0 0 0 0 0 0 0 0 0 0 0 0 1\n",
      "  1 0 0 0 0 0 0 0 0 0 0 0 0 0]\n",
      " [0 0 0 0 0 0 0 0 0 0 0 0 0 0 0 0 0 0 0 1 1 1 1 0 0 0 0 0 0 0 0 0 0 0 0 0\n",
      "  0 0 0 0 0 0 0 0 0 0 0 0 0 0]\n",
      " [0 0 1 0 0 0 0 0 0 0 0 0 0 0 0 0 0 0 0 1 0 0 0 1 0 0 0 0 0 0 1 0 0 0 0 0\n",
      "  0 0 1 1 0 0 0 0 0 0 0 0 0 0]\n",
      " [0 0 1 0 0 0 0 0 0 0 0 0 0 0 0 0 0 0 0 0 1 0 0 1 0 0 0 0 0 1 0 1 0 0 0 0\n",
      "  0 0 1 1 0 0 0 0 0 0 0 0 0 0]\n",
      " [0 0 1 0 0 0 0 0 0 0 0 0 0 0 0 0 0 0 0 0 1 1 1 0 0 0 0 0 0 0 1 0 0 0 0 0\n",
      "  0 0 0 0 0 0 0 0 0 0 0 0 0 0]\n",
      " [0 0 0 0 0 0 0 0 0 0 0 0 0 0 0 0 0 0 0 0 0 0 0 0 0 0 0 0 0 0 0 0 0 0 0 0\n",
      "  0 0 0 0 0 0 0 0 0 0 0 0 0 0]]\n"
     ]
    }
   ],
   "source": [
    "#How to implement the Game of Life using numpy arrays?\n",
    "import numpy as np\n",
    "def iterate(Z):\n",
    "    # Count neighbours\n",
    "    N=(Z[0:-2,0:-2]+Z[0:-2,1:-1]+Z[0:-2,2:]+Z[1:-1,0:-2]+Z[1:-1,2:]+Z[2:,0:-2]+Z[2:,1:-1]+Z[2:,2:])\n",
    "    birth=(N==3) & (Z[1:-1,1:-1]==0)\n",
    "    survive=((N==2) | (N==3)) & (Z[1:-1,1:-1]==1)\n",
    "    Z[...]=0\n",
    "    Z[1:-1,1:-1][birth | survive]=1\n",
    "    return Z\n",
    "\n",
    "N=np.random.randint(0,2,(50,50))\n",
    "for i in range(100): N=iterate(N)\n",
    "print(N)"
   ]
  },
  {
   "cell_type": "code",
   "execution_count": 96,
   "metadata": {},
   "outputs": [
    {
     "name": "stdout",
     "output_type": "stream",
     "text": [
      "[9995 9996 9997 9998 9999]\n",
      "[9998 9997 9999 9996 9995]\n"
     ]
    }
   ],
   "source": [
    "#How to get the n largest values of an array\n",
    "import numpy as np\n",
    "Z = np.arange(10000)\n",
    "np.random.shuffle(Z)\n",
    "n = 5\n",
    "print (Z[np.argsort(Z)[-n:]])\n",
    "print (Z[np.argpartition(-Z,n)[:n]])"
   ]
  },
  {
   "cell_type": "code",
   "execution_count": 97,
   "metadata": {},
   "outputs": [
    {
     "name": "stdout",
     "output_type": "stream",
     "text": [
      "[[1 4 6]\n",
      " [1 4 7]\n",
      " [1 5 6]\n",
      " [1 5 7]\n",
      " [2 4 6]\n",
      " [2 4 7]\n",
      " [2 5 6]\n",
      " [2 5 7]\n",
      " [3 4 6]\n",
      " [3 4 7]\n",
      " [3 5 6]\n",
      " [3 5 7]]\n"
     ]
    }
   ],
   "source": [
    "#Given an arbitrary number of vectors, build the cartesian product (every combinations of every item)\n",
    "import numpy as np\n",
    "def cartesian(arrays):\n",
    "    arrays=[np.asarray(a) for a in arrays]\n",
    "    shape=(len(x) for x in arrays)\n",
    "    ix=np.indices(shape, dtype=int)\n",
    "    ix=ix.reshape(len(arrays), -1).T\n",
    "    for n,arr in enumerate(arrays):\n",
    "        ix[:,n]=arrays[n][ix[:,n]]\n",
    "    return ix\n",
    "print (cartesian(([1, 2, 3], [4, 5], [6, 7])))"
   ]
  },
  {
   "cell_type": "code",
   "execution_count": 98,
   "metadata": {},
   "outputs": [
    {
     "name": "stdout",
     "output_type": "stream",
     "text": [
      "[(b'Hello', 2.5, 3) (b'World', 3.6, 2)]\n"
     ]
    }
   ],
   "source": [
    "#How to create a record array from a regular array?\n",
    "import numpy as np\n",
    "N=np.array([(\"Hello\", 2.5, 3),\n",
    "              (\"World\", 3.6, 2)])\n",
    "R=np.core.records.fromarrays(N.T,\n",
    "                               names='col1, col2, col3',\n",
    "                               formats='S8, f8, i8')\n",
    "print(R)"
   ]
  },
  {
   "cell_type": "code",
   "execution_count": 99,
   "metadata": {},
   "outputs": [
    {
     "name": "stdout",
     "output_type": "stream",
     "text": [
      "[0 6 7]\n"
     ]
    }
   ],
   "source": [
    "#Consider two arrays A and B of shape (8,3) and (2,2). How to find rows of A that contain elements of each row of B regardless of the order of the elements in B? \n",
    "import numpy as np\n",
    "A=np.random.randint(0,5,(8,3))\n",
    "B=np.random.randint(0,5,(2,2))\n",
    "C=(A[..., np.newaxis, np.newaxis]==B)\n",
    "rows=np.where(C.any((3,1)).all(1))[0]\n",
    "print(rows)"
   ]
  },
  {
   "cell_type": "code",
   "execution_count": 100,
   "metadata": {},
   "outputs": [
    {
     "name": "stdout",
     "output_type": "stream",
     "text": [
      "1.76 s ± 22.9 ms per loop (mean ± std. dev. of 7 runs, 1 loop each)\n",
      "232 ms ± 27.8 ms per loop (mean ± std. dev. of 7 runs, 1 loop each)\n",
      "148 ms ± 2.75 ms per loop (mean ± std. dev. of 7 runs, 10 loops each)\n"
     ]
    }
   ],
   "source": [
    "import numpy as np\n",
    "#Consider a large vector Z, compute Z to the power of 3 using 3 different methods\n",
    "x = np.random.rand(int(5e7))\n",
    "%timeit np.power(x,3)\n",
    "%timeit x*x*x\n",
    "%timeit np.einsum('i,i,i->i',x,x,x)"
   ]
  },
  {
   "cell_type": "code",
   "execution_count": 106,
   "metadata": {},
   "outputs": [
    {
     "name": "stdout",
     "output_type": "stream",
     "text": [
      "[[1 0 4]\n",
      " [0 1 1]\n",
      " [2 1 4]\n",
      " [0 2 4]\n",
      " [2 2 3]\n",
      " [3 4 2]\n",
      " [4 1 3]\n",
      " [2 1 1]\n",
      " [0 2 1]\n",
      " [0 2 2]]\n",
      "[[1 0 4]\n",
      " [0 1 1]\n",
      " [2 1 4]\n",
      " [0 2 4]\n",
      " [2 2 3]\n",
      " [3 4 2]\n",
      " [4 1 3]\n",
      " [2 1 1]\n",
      " [0 2 1]\n",
      " [0 2 2]]\n",
      "[[1 0 4]\n",
      " [0 1 1]\n",
      " [2 1 4]\n",
      " [0 2 4]\n",
      " [2 2 3]\n",
      " [3 4 2]\n",
      " [4 1 3]\n",
      " [2 1 1]\n",
      " [0 2 1]\n",
      " [0 2 2]]\n"
     ]
    }
   ],
   "source": [
    "#Considering a 10x3 matrix, extract rows with unequal values (e.g. [2,2,3]) \n",
    "import numpy as np\n",
    "N=np.random.randint(0,5,(10,3))\n",
    "print(N)\n",
    "E=np.all(N[:,1:]==N[:,:-1], axis=1)\n",
    "U=N[~E]\n",
    "print(U)\n",
    "U=N[N.max(axis=1)!=N.min(axis=1),:]\n",
    "print(U)"
   ]
  },
  {
   "cell_type": "code",
   "execution_count": 107,
   "metadata": {},
   "outputs": [
    {
     "name": "stdout",
     "output_type": "stream",
     "text": [
      "[[0 0 0 0 0 0 0 0]\n",
      " [0 0 0 0 0 0 0 1]\n",
      " [0 0 0 0 0 0 1 0]\n",
      " [0 0 0 0 0 0 1 1]\n",
      " [0 0 0 0 1 1 1 1]\n",
      " [0 0 0 1 0 0 0 0]\n",
      " [0 0 1 0 0 0 0 0]\n",
      " [0 1 0 0 0 0 0 0]\n",
      " [1 0 0 0 0 0 0 0]]\n",
      "[[0 0 0 0 0 0 0 0]\n",
      " [0 0 0 0 0 0 0 1]\n",
      " [0 0 0 0 0 0 1 0]\n",
      " [0 0 0 0 0 0 1 1]\n",
      " [0 0 0 0 1 1 1 1]\n",
      " [0 0 0 1 0 0 0 0]\n",
      " [0 0 1 0 0 0 0 0]\n",
      " [0 1 0 0 0 0 0 0]\n",
      " [1 0 0 0 0 0 0 0]]\n"
     ]
    }
   ],
   "source": [
    "#Convert a vector of ints into a matrix binary representation\n",
    "import numpy as np\n",
    "I=np.array([0,1,2,3,15,16,32,64,128])\n",
    "B=((I.reshape(-1,1)&(2**np.arange(8)))!=0).astype(int)\n",
    "print(B[:,::-1])\n",
    "I=np.array([0,1,2,3,15,16,32,64,128],dtype=np.uint8)\n",
    "print(np.unpackbits(I[:,np.newaxis],axis=1))"
   ]
  },
  {
   "cell_type": "code",
   "execution_count": 108,
   "metadata": {},
   "outputs": [
    {
     "name": "stdout",
     "output_type": "stream",
     "text": [
      "[[0 0 1]\n",
      " [1 0 1]\n",
      " [1 1 0]\n",
      " [1 1 1]]\n",
      "[[0 0 1]\n",
      " [1 0 1]\n",
      " [1 1 0]\n",
      " [1 1 1]]\n"
     ]
    }
   ],
   "source": [
    "#Given a two dimensional array, how to extract unique rows?\n",
    "import numpy as np\n",
    "N=np.random.randint(0,2,(6,3))\n",
    "T=np.ascontiguousarray(N).view(np.dtype((np.void, N.dtype.itemsize*N.shape[1])))\n",
    "_, idx=np.unique(T,return_index=True)\n",
    "uN=N[idx]\n",
    "print(uN)\n",
    "uN=np.unique(N, axis=0)\n",
    "print(uN)"
   ]
  },
  {
   "cell_type": "code",
   "execution_count": 110,
   "metadata": {},
   "outputs": [
    {
     "data": {
      "text/plain": [
       "array([[0.09552553, 0.22100768, 0.1154313 , 0.10738894, 0.13899619,\n",
       "        0.15853621, 0.22600934, 0.00410606, 0.04348232, 0.18601838],\n",
       "       [0.38947408, 0.90108647, 0.47063333, 0.43784326, 0.56671148,\n",
       "        0.64637952, 0.92147909, 0.01674112, 0.17728493, 0.75842907],\n",
       "       [0.22563206, 0.52202189, 0.27264964, 0.25365353, 0.32831011,\n",
       "        0.37446379, 0.53383584, 0.00969855, 0.10270559, 0.43937689],\n",
       "       [0.06691918, 0.15482409, 0.08086391, 0.07522994, 0.097372  ,\n",
       "        0.11106051, 0.15832794, 0.00287645, 0.03046098, 0.13031279],\n",
       "       [0.22833983, 0.52828659, 0.27592166, 0.25669759, 0.33225011,\n",
       "        0.37895768, 0.54024233, 0.00981494, 0.10393814, 0.44464979],\n",
       "       [0.20655976, 0.47789627, 0.24960303, 0.23221263, 0.30055861,\n",
       "        0.34281101, 0.48871161, 0.00887874, 0.09402406, 0.40223711],\n",
       "       [0.34185034, 0.79090429, 0.41308568, 0.38430509, 0.49741568,\n",
       "        0.56734215, 0.80880337, 0.01469406, 0.15560706, 0.66569061],\n",
       "       [0.4171292 , 0.96506931, 0.50405128, 0.4689329 , 0.60695158,\n",
       "        0.69227656, 0.98690994, 0.01792984, 0.18987328, 0.81228233],\n",
       "       [0.37248034, 0.86176979, 0.45009841, 0.41873905, 0.54198443,\n",
       "        0.61817635, 0.88127263, 0.01601066, 0.16954954, 0.72533689],\n",
       "       [0.18184816, 0.42072354, 0.21974197, 0.20443206, 0.26460153,\n",
       "        0.30179909, 0.430245  , 0.00781654, 0.08277557, 0.35411581]])"
      ]
     },
     "execution_count": 110,
     "metadata": {},
     "output_type": "execute_result"
    }
   ],
   "source": [
    "#Considering 2 vectors A & B, write the einsum equivalent of inner, outer, sum, and mul function\n",
    "import numpy as np\n",
    "A=np.random.uniform(0,1,10)\n",
    "B=np.random.uniform(0,1,10)\n",
    "np.einsum('i->', A)\n",
    "np.einsum('i,i->i', A, B)\n",
    "np.einsum('i,i', A, B)\n",
    "np.einsum('i,j->ij', A, B)"
   ]
  },
  {
   "cell_type": "code",
   "execution_count": 113,
   "metadata": {},
   "outputs": [
    {
     "name": "stdout",
     "output_type": "stream",
     "text": [
      "[ 0.00000000e+00 -3.73131229e-01 -2.59817608e+00 -3.26212050e+00\n",
      " -2.18442687e+00 -2.98929946e-02  2.42923642e+00  4.54913599e+00\n",
      "  5.92318348e+00  6.35117933e+00  5.82369277e+00  4.46259540e+00\n",
      "  2.47320794e+00  1.09577220e-01 -2.36575300e+00 -4.71261671e+00\n",
      " -6.72701769e+00 -8.25541575e+00 -9.18486120e+00 -9.46381505e+00\n",
      " -9.11085788e+00 -8.12875279e+00 -6.63306046e+00 -4.69271059e+00\n",
      " -2.44736165e+00 -2.05444585e-02  2.46101146e+00  4.86841760e+00\n",
      "  7.08937968e+00  9.02539126e+00  1.05948609e+01  1.17357250e+01\n",
      "  1.24068974e+01  1.25885805e+01  1.22815267e+01  1.15053927e+01\n",
      "  1.02963689e+01  8.70429550e+00  6.78948686e+00  4.61716636e+00\n",
      "  2.25853448e+00 -1.98731680e-01 -2.68040566e+00 -5.11543300e+00\n",
      " -7.41973991e+00 -9.53891040e+00 -1.14237629e+01 -1.29919305e+01\n",
      " -1.42355069e+01 -1.51243232e+01 -1.56061571e+01 -1.57219415e+01\n",
      " -1.54217066e+01 -1.47579136e+01 -1.37255236e+01 -1.23634834e+01\n",
      " -1.07024632e+01 -8.78327367e+00 -6.65029558e+00 -4.35514246e+00\n",
      " -1.94290275e+00  5.28038914e-01  3.00985904e+00  5.45450275e+00\n",
      "  7.80093594e+00  1.00179639e+01  1.20595602e+01  1.38732623e+01\n",
      "  1.54564938e+01  1.67497894e+01  1.77435802e+01  1.84439878e+01\n",
      "  1.87990820e+01  1.88271003e+01  1.85472755e+01  1.79378850e+01\n",
      "  1.70105456e+01  1.58085777e+01  1.43501808e+01  1.26222364e+01\n",
      "  1.06905445e+01  8.58498641e+00  6.33562529e+00  3.96179025e+00\n",
      "  1.51802643e+00 -9.61699044e-01 -3.44349301e+00 -5.88951759e+00\n",
      " -8.26006582e+00 -1.05270865e+01 -1.26610269e+01 -1.46343020e+01\n",
      " -1.64206033e+01 -1.79708499e+01 -1.92894561e+01 -2.03605967e+01\n",
      " -2.11716587e+01 -2.17133504e+01 -2.19797677e+01 -2.19626531e+01\n",
      " -2.16476737e+01 -2.10622561e+01 -2.02145809e+01 -1.91158467e+01\n",
      " -1.77800930e+01 -1.62239930e+01 -1.44666197e+01 -1.25291882e+01\n",
      " -1.04347777e+01 -8.20773276e+00 -5.86978851e+00 -3.45563299e+00\n",
      " -9.92556869e-01  1.49191203e+00  3.97031733e+00  6.41557503e+00\n",
      "  8.80126359e+00  1.11019001e+01  1.32931995e+01  1.53523150e+01\n",
      "  1.72580567e+01  1.89910866e+01  2.05340895e+01  2.18719167e+01\n",
      "  2.29917039e+01  2.38829603e+01  2.45376309e+01  2.49501314e+01\n",
      "  2.51173551e+01  2.50386548e+01  2.47157984e+01  2.41529019e+01\n",
      "  2.33563391e+01  2.23346314e+01  2.10983193e+01  1.96598169e+01\n",
      "  1.80332532e+01  1.62343003e+01  1.42799934e+01  1.21885425e+01\n",
      "  9.97914013e+00  7.67176574e+00  5.28699023e+00  2.84441658e+00\n",
      "  3.68190102e-01 -2.11846865e+00 -4.59426061e+00 -7.03829202e+00\n",
      " -9.43024209e+00 -1.17505186e+01 -1.39803999e+01 -1.61021634e+01\n",
      " -1.80991985e+01 -1.99561058e+01 -2.16587804e+01 -2.31850397e+01\n",
      " -2.45166960e+01 -2.56568097e+01 -2.65976904e+01 -2.73332424e+01\n",
      " -2.78589555e+01 -2.81718833e+01 -2.82706110e+01 -2.81552119e+01\n",
      " -2.78066635e+01 -2.72341677e+01 -2.64578863e+01 -2.54844118e+01\n",
      " -2.43214986e+01 -2.29779690e+01 -2.14636172e+01 -1.97837046e+01\n",
      " -1.79341987e+01 -1.59545785e+01 -1.38585628e+01 -1.16602783e+01\n",
      " -9.37416511e+00 -7.01488958e+00 -4.59184632e+00 -2.12995331e+00\n",
      "  3.50691071e-01  2.83498918e+00  5.30813450e+00  7.75565814e+00\n",
      "  1.01522531e+01  1.24813227e+01  1.47337756e+01  1.68973642e+01\n",
      "  1.89604991e+01  2.09071945e+01  2.26943693e+01  2.43420179e+01\n",
      "  2.58422998e+01  2.71881423e+01  2.83731992e+01  2.93376609e+01\n",
      "  3.01222558e+01  3.07280750e+01  3.11531219e+01  3.13960177e+01] [ 0.00000000e+00  1.74026724e+00  9.81816584e-01 -1.34251287e+00\n",
      " -3.53191891e+00 -4.70449474e+00 -4.59573427e+00 -3.33831870e+00\n",
      " -1.28956083e+00  1.14234685e+00  3.55645601e+00  5.62188218e+00\n",
      "  7.09389488e+00  7.82951803e+00  7.78700678e+00  6.99685666e+00\n",
      "  5.55535240e+00  3.60417006e+00  1.30506373e+00 -1.15819722e+00\n",
      " -3.61328132e+00 -5.89130465e+00 -7.87065053e+00 -9.41689057e+00\n",
      " -1.04714836e+01 -1.09903787e+01 -1.09354306e+01 -1.03330912e+01\n",
      " -9.22690166e+00 -7.67489830e+00 -5.75257980e+00 -3.54832201e+00\n",
      " -1.15854355e+00  1.31709956e+00  3.78023622e+00  6.13780326e+00\n",
      "  8.30540149e+00  1.02098724e+01  1.17910419e+01  1.29972950e+01\n",
      "  1.37774249e+01  1.41319792e+01  1.40585758e+01  1.35636816e+01\n",
      "  1.26345244e+01  1.13409083e+01  9.72216360e+00  7.79464305e+00\n",
      "  5.64544223e+00  3.32503222e+00  8.88107041e-01 -1.59329248e+00\n",
      " -4.05992507e+00 -6.45313746e+00 -8.71327144e+00 -1.07900854e+01\n",
      " -1.26380653e+01 -1.42147006e+01 -1.54892299e+01 -1.64390858e+01\n",
      " -1.70351433e+01 -1.72938948e+01 -1.71685631e+01 -1.67219979e+01\n",
      " -1.59044166e+01 -1.47824153e+01 -1.33665280e+01 -1.16678134e+01\n",
      " -9.75246391e+00 -7.63091465e+00 -5.35345831e+00 -2.96905840e+00\n",
      " -5.09631905e-01  1.97507060e+00  4.44430515e+00  6.85344809e+00\n",
      "  9.15903461e+00  1.13337844e+01  1.33467125e+01  1.51336120e+01\n",
      "  1.66966787e+01  1.80162922e+01  1.90746708e+01  1.98127969e+01\n",
      "  2.02634499e+01  2.04221761e+01  2.02877631e+01  1.98449702e+01\n",
      "  1.90974465e+01  1.80799531e+01  1.68069397e+01  1.52959771e+01\n",
      "  1.35665801e+01  1.16227312e+01  9.51601869e+00  7.27388893e+00\n",
      "  4.92519240e+00  2.49981337e+00  2.82932820e-02 -2.45817963e+00\n",
      " -4.92460367e+00 -7.34030894e+00 -9.67635928e+00 -1.19050601e+01\n",
      " -1.40002645e+01 -1.59376556e+01 -1.76950019e+01 -1.92523833e+01\n",
      " -2.05923861e+01 -2.16995543e+01 -2.25478860e+01 -2.31432552e+01\n",
      " -2.34800725e+01 -2.35556687e+01 -2.33702741e+01 -2.29269662e+01\n",
      " -2.22315865e+01 -2.12926288e+01 -2.01211000e+01 -1.87303570e+01\n",
      " -1.71359212e+01 -1.53552740e+01 -1.34076356e+01 -1.13137308e+01\n",
      " -9.09554383e+00 -6.77606668e+00 -4.37904252e+00 -1.92870828e+00\n",
      "  5.50461201e-01  3.03400451e+00  5.49771780e+00  7.91788934e+00\n",
      "  1.02715222e+01  1.25365431e+01  1.46919953e+01  1.67182148e+01\n",
      "  1.85969872e+01  2.03116866e+01  2.18473923e+01  2.31909872e+01\n",
      "  2.43312337e+01  2.52588296e+01  2.59664444e+01  2.64391214e+01\n",
      "  2.66748505e+01  2.66796333e+01  2.64545680e+01  2.60026765e+01\n",
      "  2.53288265e+01  2.44396400e+01  2.33433894e+01  2.20498837e+01\n",
      "  2.05703459e+01  1.89172843e+01  1.71043584e+01  1.51396391e+01\n",
      "  1.30387952e+01  1.08294252e+01  8.52903617e+00  6.15551380e+00\n",
      "  3.72697869e+00  1.26164946e+00 -1.22228693e+00 -3.70679651e+00\n",
      " -6.17014862e+00 -8.59028675e+00 -1.09516293e+01 -1.32379536e+01\n",
      " -1.54338179e+01 -1.75246263e+01 -1.94966815e+01 -2.13317519e+01\n",
      " -2.29952001e+01 -2.44987532e+01 -2.58335652e+01 -2.69919481e+01\n",
      " -2.79673583e+01 -2.87543764e+01 -2.93186910e+01 -2.96679958e+01\n",
      " -2.98181354e+01 -2.97693731e+01 -2.95229769e+01 -2.90811595e+01\n",
      " -2.84133854e+01 -2.75430665e+01 -2.64934034e+01 -2.52713717e+01\n",
      " -2.38845608e+01 -2.23353782e+01 -2.06051319e+01 -1.87442619e+01\n",
      " -1.67635423e+01 -1.46739620e+01 -1.24866789e+01 -1.01933401e+01\n",
      " -7.83474328e+00 -5.42495146e+00 -2.97607515e+00 -5.00072086e-01]\n"
     ]
    }
   ],
   "source": [
    "#Considering a path described by two vectors (X,Y), how to sample it using equidistant samples\n",
    "import numpy as np\n",
    "phi=np.arange(0,10*np.pi,0.1)\n",
    "a=1\n",
    "x=a*phi*np.cos(phi)\n",
    "y=a*phi*np.sin(phi)\n",
    "\n",
    "dr=(np.diff(x)**2+np.diff(y)**2)**.5 \n",
    "r=np.zeros_like(x)\n",
    "r[1:]=np.cumsum(dr)               \n",
    "r_int=np.linspace(0,r.max(),200) \n",
    "x_int=np.interp(r_int,r,x)      \n",
    "y_int=np.interp(r_int,r,y)\n",
    "print(x_int,y_int)"
   ]
  },
  {
   "cell_type": "code",
   "execution_count": 115,
   "metadata": {},
   "outputs": [
    {
     "name": "stdout",
     "output_type": "stream",
     "text": [
      "[[2. 0. 1. 1.]]\n"
     ]
    }
   ],
   "source": [
    "#Given an integer n and a 2D array X, select from X the rows which can be interpreted as draws from a multinomial distribution with n degrees, i.e., the rows which only contain integers and which sum to n.\n",
    "import numpy as np\n",
    "X=np.asarray([[1.0, 0.0, 3.0, 8.0],\n",
    "                [2.0, 0.0, 1.0, 1.0],\n",
    "                [1.5, 2.5, 1.0, 0.0]])\n",
    "n=4\n",
    "M=np.logical_and.reduce(np.mod(X, 1)==0, axis=-1)\n",
    "M&=(X.sum(axis=-1)==n)\n",
    "print(X[M])"
   ]
  },
  {
   "cell_type": "code",
   "execution_count": 116,
   "metadata": {},
   "outputs": [
    {
     "name": "stdout",
     "output_type": "stream",
     "text": [
      "[-0.2473623  0.2073631]\n"
     ]
    }
   ],
   "source": [
    "#Compute bootstrapped 95% confidence intervals for the mean of a 1D array X (i.e., resample the elements of an array with replacement N times, compute the mean of each sample, and then compute percentiles over the means). \n",
    "import numpy as np\n",
    "X=np.random.randn(100)\n",
    "N=1000\n",
    "idx=np.random.randint(0,X.size,(N,X.size))\n",
    "means=X[idx].mean(axis=1)\n",
    "confint=np.percentile(means,[2.5, 97.5])\n",
    "print(confint)"
   ]
  },
  {
   "cell_type": "code",
   "execution_count": null,
   "metadata": {},
   "outputs": [],
   "source": []
  }
 ],
 "metadata": {
  "kernelspec": {
   "display_name": "Python 3",
   "language": "python",
   "name": "python3"
  },
  "language_info": {
   "codemirror_mode": {
    "name": "ipython",
    "version": 3
   },
   "file_extension": ".py",
   "mimetype": "text/x-python",
   "name": "python",
   "nbconvert_exporter": "python",
   "pygments_lexer": "ipython3",
   "version": "3.7.3"
  }
 },
 "nbformat": 4,
 "nbformat_minor": 2
}
